{
 "cells": [
  {
   "cell_type": "markdown",
   "id": "9a1c2f55-658f-49d8-a484-de1cf23607ba",
   "metadata": {},
   "source": [
    "# V2"
   ]
  },
  {
   "cell_type": "code",
   "execution_count": 1,
   "id": "9c005b3a-9182-4658-b096-915fb8439925",
   "metadata": {},
   "outputs": [
    {
     "name": "stderr",
     "output_type": "stream",
     "text": [
      "/Users/z5173707/root/projects/FHS/venv/python3.12.6/lib/python3.12/site-packages/tqdm/auto.py:21: TqdmWarning: IProgress not found. Please update jupyter and ipywidgets. See https://ipywidgets.readthedocs.io/en/stable/user_install.html\n",
      "  from .autonotebook import tqdm as notebook_tqdm\n",
      "2024-10-21 08:28:54,732 - speechgrid - ERROR - Config file not found: [Errno 2] No such file or directory: 'configh.yaml'\n"
     ]
    },
    {
     "ename": "FileNotFoundError",
     "evalue": "[Errno 2] No such file or directory: 'configh.yaml'",
     "output_type": "error",
     "traceback": [
      "\u001b[0;31m---------------------------------------------------------------------------\u001b[0m",
      "\u001b[0;31mFileNotFoundError\u001b[0m                         Traceback (most recent call last)",
      "Cell \u001b[0;32mIn[1], line 23\u001b[0m\n\u001b[1;32m     19\u001b[0m setup_logger()\n\u001b[1;32m     20\u001b[0m logger \u001b[38;5;241m=\u001b[39m logging\u001b[38;5;241m.\u001b[39mgetLogger(\u001b[38;5;18m__name__\u001b[39m)\n\u001b[0;32m---> 23\u001b[0m speech_grid_interface \u001b[38;5;241m=\u001b[39m \u001b[43mSpeechGridInterface\u001b[49m\u001b[43m(\u001b[49m\u001b[43mconfig_file\u001b[49m\u001b[38;5;241;43m=\u001b[39;49m\u001b[38;5;124;43m'\u001b[39;49m\u001b[38;5;124;43mconfigh.yaml\u001b[39;49m\u001b[38;5;124;43m'\u001b[39;49m\u001b[43m)\u001b[49m\n",
      "File \u001b[0;32m~/root/projects/speechgrid/speechgrid.py:154\u001b[0m, in \u001b[0;36mSpeechGridInterface.__init__\u001b[0;34m(self, config_file)\u001b[0m\n\u001b[1;32m    153\u001b[0m \u001b[38;5;28;01mdef\u001b[39;00m \u001b[38;5;21m__init__\u001b[39m(\u001b[38;5;28mself\u001b[39m, config_file):\n\u001b[0;32m--> 154\u001b[0m     \u001b[38;5;28;43msuper\u001b[39;49m\u001b[43m(\u001b[49m\u001b[43m)\u001b[49m\u001b[38;5;241;43m.\u001b[39;49m\u001b[38;5;21;43m__init__\u001b[39;49m\u001b[43m(\u001b[49m\u001b[43mconfig_file\u001b[49m\u001b[38;5;241;43m=\u001b[39;49m\u001b[43mconfig_file\u001b[49m\u001b[43m)\u001b[49m\n\u001b[1;32m    155\u001b[0m     \u001b[38;5;28mself\u001b[39m\u001b[38;5;241m.\u001b[39mtasks \u001b[38;5;241m=\u001b[39m []\n\u001b[1;32m    156\u001b[0m     \u001b[38;5;66;03m#Options\u001b[39;00m\n",
      "File \u001b[0;32m~/root/projects/speechgrid/speechgrid.py:20\u001b[0m, in \u001b[0;36mSpeechGrid.__init__\u001b[0;34m(self, config_file)\u001b[0m\n\u001b[1;32m     18\u001b[0m \u001b[38;5;28;01mdef\u001b[39;00m \u001b[38;5;21m__init__\u001b[39m(\u001b[38;5;28mself\u001b[39m, config_file):\n\u001b[1;32m     19\u001b[0m     \u001b[38;5;28;01mtry\u001b[39;00m:\n\u001b[0;32m---> 20\u001b[0m         \u001b[38;5;28;01mwith\u001b[39;00m \u001b[38;5;28;43mopen\u001b[39;49m\u001b[43m(\u001b[49m\u001b[43mconfig_file\u001b[49m\u001b[43m)\u001b[49m \u001b[38;5;28;01mas\u001b[39;00m f:\n\u001b[1;32m     21\u001b[0m             \u001b[38;5;28;01mtry\u001b[39;00m:\n\u001b[1;32m     22\u001b[0m                 \u001b[38;5;28mself\u001b[39m\u001b[38;5;241m.\u001b[39mconfig \u001b[38;5;241m=\u001b[39m yaml\u001b[38;5;241m.\u001b[39msafe_load(f)\n",
      "\u001b[0;31mFileNotFoundError\u001b[0m: [Errno 2] No such file or directory: 'configh.yaml'"
     ]
    }
   ],
   "source": [
    "import os\n",
    "import sys\n",
    "import logging\n",
    "\n",
    "import gradio as gr\n",
    "\n",
    "from speechgrid import SpeechGrid, SpeechGridInterface\n",
    "from config import setup_logger, output_dir\n",
    "\n",
    "\n",
    "\n",
    "if len(sys.argv) == 2:\n",
    "    shareable=bool(int(sys.argv[1]))\n",
    "else:\n",
    "    shareable = False\n",
    "\n",
    "    \n",
    "\n",
    "setup_logger()\n",
    "logger = logging.getLogger(__name__)\n",
    "\n",
    "\n",
    "speech_grid_interface = SpeechGridInterface(config_file='configh.yaml')\n",
    "\n",
    " "
   ]
  },
  {
   "cell_type": "code",
   "execution_count": 2,
   "id": "ec6b7ce6-49b7-4c27-ae65-2cd44c3e9e59",
   "metadata": {},
   "outputs": [
    {
     "name": "stderr",
     "output_type": "stream",
     "text": [
      "2024-10-21 08:26:51,611 - httpx - INFO - HTTP Request: GET http://127.0.0.1:7860/startup-events \"HTTP/1.1 200 OK\"\n",
      "2024-10-21 08:26:51,624 - httpx - INFO - HTTP Request: HEAD http://127.0.0.1:7860/ \"HTTP/1.1 200 OK\"\n"
     ]
    },
    {
     "name": "stdout",
     "output_type": "stream",
     "text": [
      "Running on local URL:  http://127.0.0.1:7860\n",
      "\n",
      "To create a public link, set `share=True` in `launch()`.\n"
     ]
    },
    {
     "data": {
      "text/html": [
       "<div><iframe src=\"http://127.0.0.1:7860/\" width=\"100%\" height=\"500\" allow=\"autoplay; camera; microphone; clipboard-read; clipboard-write;\" frameborder=\"0\" allowfullscreen></iframe></div>"
      ],
      "text/plain": [
       "<IPython.core.display.HTML object>"
      ]
     },
     "metadata": {},
     "output_type": "display_data"
    },
    {
     "data": {
      "text/plain": []
     },
     "execution_count": 2,
     "metadata": {},
     "output_type": "execute_result"
    },
    {
     "name": "stderr",
     "output_type": "stream",
     "text": [
      "2024-10-21 08:26:51,864 - httpx - INFO - HTTP Request: GET https://checkip.amazonaws.com/ \"HTTP/1.1 200 \"\n",
      "2024-10-21 08:26:51,950 - httpx - INFO - HTTP Request: GET https://checkip.amazonaws.com/ \"HTTP/1.1 200 \"\n",
      "2024-10-21 08:26:52,245 - httpx - INFO - HTTP Request: GET https://api.gradio.app/pkg-version \"HTTP/1.1 200 OK\"\n",
      "/Users/z5173707/root/projects/FHS/venv/python3.12.6/lib/python3.12/site-packages/gradio/analytics.py:106: UserWarning: IMPORTANT: You are using gradio version 4.44.0, however version 4.44.1 is available, please upgrade. \n",
      "--------\n",
      "  warnings.warn(\n",
      "2024-10-21 08:27:17,075 - speechgrid - INFO - Loading ASR Model...\n",
      "Loading the LM will be faster if you build a binary file.\n",
      "2024-10-21 08:27:20,864 - pyctcdecode.decoder - INFO - Using arpa instead of binary LM file, decoder instantiation might be slow.\n",
      "Reading /Users/z5173707/root/projects/speechgrid/Models/ASR/LM/ngram/4gram_big.arpa\n",
      "----5---10---15---20---25---30---35---40---45---50---55---60---65---70---75---80---85---90---95--100\n",
      "****************************************************************************************************\n",
      "2024-10-21 08:27:20,912 - pyctcdecode.alphabet - INFO - Alphabet determined to be of regular style.\n",
      "2024-10-21 08:27:20,913 - pyctcdecode.alphabet - INFO - Found '|' in vocabulary but not ' ', doing substitution.\n",
      "2024-10-21 08:27:20,913 - pyctcdecode.alphabet - INFO - Found <pad> in vocabulary, interpreted as a CTC blank token, substituting with .\n",
      "2024-10-21 08:27:20,913 - pyctcdecode.alphabet - INFO - Found <unk> in vocabulary, interpreting as unknown token, substituting with ⁇.\n",
      "2024-10-21 08:27:20,914 - pyctcdecode.alphabet - WARNING - Found entries of length > 1 in alphabet. This is unusual unless style is BPE, but the alphabet was not recognized as BPE type. Is this correct?\n",
      "2024-10-21 08:27:21,740 - speechgrid - INFO - Loading SD Model...\n",
      "2024-10-21 08:27:21,959 - speechgrid - INFO - Loading VAD Model...\n",
      "2024-10-21 08:27:21,985 - speechgrid - INFO - Loading Speech File...\n",
      "2024-10-21 08:27:25,124 - speechgrid - INFO - Start processing, following tasks will be performed on taukdial-004-2 VAD,SD,ASR\n",
      "2024-10-21 08:27:25,125 - speechgrid - INFO - Applying VAD...\n",
      "2024-10-21 08:27:26,651 - speechgrid - INFO - Applying SD...\n",
      "/Users/z5173707/root/projects/FHS/venv/python3.12.6/lib/python3.12/site-packages/pyannote/audio/models/blocks/pooling.py:104: UserWarning: std(): degrees of freedom is <= 0. Correction should be strictly less than the reduction factor (input numel divided by output numel). (Triggered internally at /Users/runner/work/pytorch/pytorch/pytorch/aten/src/ATen/native/ReduceOps.cpp:1808.)\n",
      "  std = sequences.std(dim=-1, correction=1)\n",
      "2024-10-21 08:27:50,700 - speechgrid - INFO - Applying ASR...\n",
      "2024-10-21 08:28:07,423 - speechgrid - INFO - Saving output files in /Users/z5173707/root/projects/speechgrid/output, taukdial-004-2\n",
      "2024-10-21 08:28:07,446 - speechgrid - INFO - Processing taukdial-004-2 is completed\n"
     ]
    }
   ],
   "source": [
    "   \n",
    "    \n",
    "#TODO: Progress bar\n",
    "#TODO: VAD ########DONE\n",
    "#TODO: Number of speakers  ######DONE\n",
    "#TODO: Word alignment\n",
    "#TODO: Download button  ######DONE\n",
    "#TODO: Wrape in a docker #####DONE\n",
    "#TODO: Test pyannote offline  ########DONE\n",
    "#TODO: Logging of errors and info    #########IN PROGRESS\n",
    "#TODO: ASR with LM  ########DONE\n",
    "#TODO: Process batch\n",
    "#TODO: Kaldi ASR\n",
    "#TODO: MMS ASR   ######DONE\n",
    "#TODO: Add parameters selection for ASR, SD, VAD\n",
    "#TODO: Rewrite the textgrid\n",
    "#TODO: TextGrid code to get the logger and use logging instead of print.\n",
    "#TODO: Add logging to other packages\n",
    "#TODO: Use .bin instead of ARPA in LM\n",
    "#TODO: ASR add the expected words\n",
    "#TODO: Consider control the offset in interval ASR\n",
    "#TODO: Add parameters of min silence duration #NEED TO WELL UNDERSTAND THESE PARAMETERS\n",
    "#TODO: Create set, get for speaker number\n",
    "#TODO: Name of file as the uploaded file\n",
    "#TODO: Make process enable after loading or recording ####DONE####\n",
    "#TODO: Use import tempfile to access the temp dir if need to do so\n",
    "#TODO: Review the use of get and set, use @property instead or direct access\n",
    "#TODO: Add nemo diarization\n",
    "\n",
    "#TODO: May specify the min but max 0?!\n",
    "\n",
    "def reset_min_max(exact,min_v,max_v):\n",
    "    if exact > 0:\n",
    "        min_v = 0\n",
    "        max_v = 0\n",
    "    speech_grid_interface.set_speaker_numbers(exact, min_v, max_v)\n",
    "    return exact, min_v, max_v\n",
    "\n",
    "def validate_min_max(exact, min_v, max_v):\n",
    "    if min_v > 0 or max_v > 0:\n",
    "        exact = 0\n",
    "        if min_v > max_v:\n",
    "            max_v = min_v\n",
    "    speech_grid_interface.set_speaker_numbers(exact, min_v, max_v)\n",
    "    return exact, min_v, max_v\n",
    "\n",
    "def audio_stat(audio_value):\n",
    "    if audio_value:\n",
    "        return gr.Button(\"Process Audio\", interactive=True)\n",
    "    else:\n",
    "        return gr.Button(\"Process Audio\", interactive=False)\n",
    "\n",
    "def audio_record():\n",
    "    speech_grid_interface.recorded_speech = True\n",
    "\n",
    "def audio_upload():\n",
    "    speech_grid_interface.recorded_speech = False\n",
    "\n",
    "with gr.Blocks(title=\"SpeechGrid\", theme=gr.themes.Soft()) as gui:\n",
    "\n",
    "    with gr.Tab('Main'):\n",
    "\n",
    "        record_audio = gr.Audio(sources=[\"microphone\",\"upload\"], type=\"filepath\")\n",
    "        \n",
    "        \n",
    "    \n",
    "        tasks = gr.CheckboxGroup(choices=[(\"Speech to Text\",\"ASR\"),\n",
    "                                          (\"Speaker Separation\",\"SD\"),\n",
    "                                          (\"Speech Detection\",\"VAD\")],\n",
    "                                 value=speech_grid_interface.get_tasks(),\n",
    "                                 label=\"Tasks\",\n",
    "                                 info=\"Apply the following tasks:\")\n",
    "        tasks.input(speech_grid_interface.set_tasks, inputs=tasks)\n",
    "            \n",
    "    \n",
    "        process = gr.Button(\"Process Audio\", interactive=False)\n",
    "\n",
    "        record_audio.input(audio_stat, inputs=record_audio, outputs=process)\n",
    "        record_audio.stop_recording(audio_record)\n",
    "        record_audio.upload(audio_upload)\n",
    "    \n",
    "        output_text = gr.Textbox(label='Progress', interactive=False)\n",
    "        with gr.Row():\n",
    "            with gr.Column():\n",
    "                d1 = gr.DownloadButton(\"Download output\", visible=False)\n",
    "            with gr.Column():\n",
    "                d2 = gr.DownloadButton(\"Download speech file\", visible=False)\n",
    "    \n",
    "        \n",
    "        \n",
    "    with gr.Tab('Advanced Options'):\n",
    "        gr.Markdown(\n",
    "            \"\"\"\n",
    "            ### Speaker Separation\n",
    "            Number of speakers\n",
    "            \"\"\")\n",
    "        with gr.Row():\n",
    "            n_exact = gr.Number(label='Exact')\n",
    "            n_min = gr.Number(label='Minimum')\n",
    "            n_max = gr.Number(label='Maximum')\n",
    "\n",
    "            n_exact.input(reset_min_max,\n",
    "                           inputs=[n_exact, n_min, n_max],\n",
    "                          outputs=[n_exact, n_min, n_max])\n",
    "            n_min.input(validate_min_max,\n",
    "                        inputs=[n_exact, n_min, n_max],\n",
    "                        outputs=[n_exact, n_min, n_max])\n",
    "            n_max.input(validate_min_max,\n",
    "                        inputs=[n_exact, n_min, n_max],\n",
    "                        outputs=[n_exact, n_min, n_max])\n",
    "        gr.Markdown(\n",
    "            \"\"\"\n",
    "            ### Speech to Text\n",
    "            \"\"\"\n",
    "        )\n",
    "        with gr.Row():\n",
    "            avail_lang = [(k,v) for k,v in speech_grid_interface.get_asr_available_lang().items()]\n",
    "            lang_drop = gr.Dropdown(label='Language', choices=avail_lang, value=speech_grid_interface.get_asr_lang())\n",
    "            lang_drop.change(speech_grid_interface.set_asr_lang,\n",
    "                            inputs=lang_drop)\n",
    "\n",
    "            is_lm_enabled = speech_grid_interface.get_lm_enable()\n",
    "            lm_enable = gr.Checkbox(label='Enable Language Model', value=is_lm_enabled, interactive=True)\n",
    "            lm_enable.change(speech_grid_interface.set_lm_enable,\n",
    "                            inputs=lm_enable)\n",
    "    \n",
    "    process.click(speech_grid_interface.process, \n",
    "                      inputs=record_audio,\n",
    "                      outputs=[output_text, d1, d2])\n",
    "     \n",
    "gui.queue().launch(share=shareable)"
   ]
  },
  {
   "cell_type": "markdown",
   "id": "f7192d1a-b8cc-4d79-ae6f-a24766c93c54",
   "metadata": {},
   "source": [
    "# V1"
   ]
  },
  {
   "cell_type": "code",
   "execution_count": 1,
   "id": "000803a1-5b8a-4ebb-856b-7d7c42e4e013",
   "metadata": {},
   "outputs": [
    {
     "name": "stderr",
     "output_type": "stream",
     "text": [
      "/Users/z5173707/root/projects/FHS/venv/python3.12.6/lib/python3.12/site-packages/tqdm/auto.py:21: TqdmWarning: IProgress not found. Please update jupyter and ipywidgets. See https://ipywidgets.readthedocs.io/en/stable/user_install.html\n",
      "  from .autonotebook import tqdm as notebook_tqdm\n"
     ]
    }
   ],
   "source": [
    "import os\n",
    "import logging\n",
    "import soundfile as sf\n",
    "import gradio as gr\n",
    "\n",
    "from speechgrid import SpeechGrid\n",
    "from config import setup_logger, output_dir\n",
    "from core.utils import generate_file_basename, load_speech_file, zip_files\n",
    "\n",
    "\n",
    "setup_logger()\n",
    "logger = logging.getLogger(__name__)\n",
    "\n",
    "class SpeechGridInterface(SpeechGrid):\n",
    "    def __init__(self, config_file):\n",
    "        super().__init__(config_file=config_file)\n",
    "        #self.speech_grid = SpeechGrid(config_file=config_file)\n",
    "        self.tasks = []\n",
    "        #Options\n",
    "        self.recorded_speech = False #If user record file on the fly\n",
    "    \n",
    "        \n",
    "\n",
    "    def add_task(self, task):\n",
    "        if task not in self.tasks:\n",
    "            self.tasks.append(task)\n",
    "\n",
    "    def remove_task(self, task):\n",
    "        if task in self.tasks:\n",
    "            self.tasks.remove(task)\n",
    "\n",
    "    def set_tasks(self, tasks):\n",
    "        self.tasks = tasks\n",
    "        \n",
    "    def get_tasks(self):\n",
    "        return self.tasks\n",
    "\n",
    "\n",
    "    def process(self, path, mode='single', progress=gr.Progress()): #input either a speech file o\n",
    "        self.load_tasks(self.get_tasks())\n",
    "\n",
    "        if mode=='single':\n",
    "            speech_file, output_zip_file, wav_file_created, out_file_created = self.process_file(path, progress = progress)\n",
    "            if wav_file_created:\n",
    "                download_speech_enable = True\n",
    "                download_speech_value = speech_file\n",
    "                download_speech_label = f\"Download speech file\"\n",
    "            else:\n",
    "                download_speech_enable = False\n",
    "                download_speech_value = None\n",
    "                download_speech_label = \"Error in saving speech file\"\n",
    "                \n",
    "            if out_file_created:\n",
    "                download_data_enable = True\n",
    "                download_data_value = output_zip_file\n",
    "                download_data_label = f\"Download output file\"\n",
    "            else:\n",
    "                download_data_enable = False\n",
    "                download_data_value = None\n",
    "                download_data_label = \"Error in archiving data\"\n",
    "\n",
    "            return [\"Processing completed..\", \n",
    "                gr.DownloadButton(label=download_data_label,\n",
    "                                  value=download_data_value,\n",
    "                                  interactive=download_data_enable,\n",
    "                                  visible=True),\n",
    "                \n",
    "                gr.DownloadButton(label=download_speech_label,\n",
    "                                  value=download_speech_value,\n",
    "                                  interactive=download_speech_enable,\n",
    "                                  visible=True)]\n",
    "    \n",
    "    def apply_tasks_to_speech(self, task_pipeline, speech, basename, sr=16000, progress = gr.Progress()):\n",
    "        out_textgrid = []\n",
    "\n",
    "        num_processes = len(task_pipeline)+1\n",
    "        i = 1\n",
    "        for task in task_pipeline:\n",
    "            logger.info(f'Applying {task}...')\n",
    "            progress(i/(num_processes+1), desc=f\"Applying {task}\")\n",
    "            i += 1\n",
    "            if task == 'ASR':\n",
    "                asr_engine = self.loaded_tasks['ASR']\n",
    "                textgrid_file = os.path.join(output_dir,f'{basename}_ASR.TextGrid')\n",
    "                if not out_textgrid:\n",
    "                    asr_engine.process_speech(speech)\n",
    "                else:\n",
    "                    input_textgrid = out_textgrid[-1]\n",
    "                    asr_engine.process_intervals(speech, input_textgrid, sr = sr, offset_sec=0, \n",
    "                                                 speech_label = self.speech_label)\n",
    "                \n",
    "                asr_engine.write_textgrid(textgrid_file)\n",
    "                out_textgrid.append(textgrid_file)\n",
    "            \n",
    "            elif task == 'VAD':\n",
    "                vad_engine = self.loaded_tasks['VAD']\n",
    "                rttm_file = os.path.join(output_dir,f'{basename}_VAD.rttm')\n",
    "                textgrid_file = os.path.join(output_dir,f'{basename}_VAD.TextGrid')\n",
    "                vad_engine.process_speech(speech,sr)\n",
    "                vad_engine.write_rttm(rttm_file)\n",
    "                vad_engine.write_textgrid(textgrid_file, speech_label=self.speech_label)\n",
    "                out_textgrid.append(textgrid_file)\n",
    "            \n",
    "            elif task == 'SD':\n",
    "                sd_engine = self.loaded_tasks['SD']\n",
    "                rttm_file = os.path.join(output_dir,f'{basename}_SD.rttm')\n",
    "                textgrid_file = os.path.join(output_dir,f'{basename}_SD.TextGrid')\n",
    "                n_exact_speakers, n_min_speakers, n_max_speakers = self.get_speaker_numbers()\n",
    "                sd_engine.process_speech(speech=speech,\n",
    "                                         sr=sr,\n",
    "                                         n_exact_speakers = n_exact_speakers,\n",
    "                                         n_min_speakers = n_min_speakers,\n",
    "                                         n_max_speakers = n_max_speakers)\n",
    "                sd_engine.write_rttm(rttm_file)\n",
    "                sd_engine.write_textgrid(textgrid_file, speech_label=self.speech_label)\n",
    "                out_textgrid.append(textgrid_file)\n",
    "        \n",
    "        return out_textgrid\n",
    "    \n",
    "    def process_file(self, speech_file, progress=gr.Progress()):\n",
    "        if self.recorded_speech:\n",
    "            basename = generate_file_basename() #Generate random name\n",
    "        else:\n",
    "            basename = os.path.splitext(os.path.basename(speech_file))[0]\n",
    "\n",
    "        progress(0, desc=f\"Loading Speech File...\")\n",
    "        \n",
    "        logger.info('Loading Speech File...')\n",
    "    \n",
    "        try:\n",
    "            speech, sr, duration = load_speech_file(speech_file)\n",
    "        except Exception as e:\n",
    "            logger.exception(f'Failed to load the speech file {speech_file}, {e}')\n",
    "            raise\n",
    "        \n",
    "        tasks = set(self.get_tasks())\n",
    "        \n",
    "        task_pipeline = self.create_task_pipeline(tasks, duration)\n",
    "    \n",
    "        logger.info(f'Start processing, following tasks will be performed on {basename} {','.join(task_pipeline)}')\n",
    "    \n",
    "        #Loading task engines\n",
    "        self.load_tasks(task_pipeline)\n",
    "        \n",
    "        out_textgrid = self.apply_tasks_to_speech(task_pipeline, speech, basename, sr, progress)\n",
    "        \n",
    "        output_zip_file = os.path.join(output_dir,f'{basename}_output.zip')\n",
    "        \n",
    "        progress(1, desc=f\"Generate output files\")\n",
    "    \n",
    "    \n",
    "        logger.info(f'Saving output files in {output_dir}, {basename}')\n",
    "    \n",
    "        #This save a version of the speech file with 16k, mono, 16bit\n",
    "        wav_file_created = True\n",
    "        out_file_created = True\n",
    "        try:\n",
    "            speech_file = os.path.join(output_dir,f'{basename}.wav')\n",
    "            sf.write(speech_file, speech, sr)\n",
    "\n",
    "        except Exception as e:\n",
    "            logger.exception(f'Failed to save the speech file {speech_file}, {e}')\n",
    "            wav_file_created = False\n",
    "        \n",
    "        try:\n",
    "            p = zip_files(out_textgrid, output_zip_file)\n",
    "       \n",
    "        except Exception as e:\n",
    "            logger.exception(f'Failed to create output archive in {output_zip_file}, {e}')\n",
    "            out_file_created = False\n",
    "      \n",
    "         \n",
    "        progress(1, desc=f\"Processing {basename} completed..\")\n",
    "    \n",
    "        logger.info(f'Processing {basename} is completed')\n",
    "\n",
    "        return (speech_file, output_zip_file, wav_file_created, out_file_created)\n",
    "        \n",
    "        "
   ]
  },
  {
   "cell_type": "code",
   "execution_count": 2,
   "id": "4bbd4863-fe50-4026-ba69-cc1d8ef63f8f",
   "metadata": {},
   "outputs": [
    {
     "name": "stderr",
     "output_type": "stream",
     "text": [
      "2024-10-21 08:22:54,745 - speechgrid - ERROR - Config file not found: [Errno 2] No such file or directory: 'configh.yaml'\n"
     ]
    },
    {
     "ename": "AttributeError",
     "evalue": "'SpeechGridInterface' object has no attribute 'config'",
     "output_type": "error",
     "traceback": [
      "\u001b[0;31m---------------------------------------------------------------------------\u001b[0m",
      "\u001b[0;31mAttributeError\u001b[0m                            Traceback (most recent call last)",
      "Cell \u001b[0;32mIn[2], line 1\u001b[0m\n\u001b[0;32m----> 1\u001b[0m speech_grid_interface \u001b[38;5;241m=\u001b[39m \u001b[43mSpeechGridInterface\u001b[49m\u001b[43m(\u001b[49m\u001b[43mconfig_file\u001b[49m\u001b[38;5;241;43m=\u001b[39;49m\u001b[38;5;124;43m'\u001b[39;49m\u001b[38;5;124;43mconfigh.yaml\u001b[39;49m\u001b[38;5;124;43m'\u001b[39;49m\u001b[43m)\u001b[49m\n",
      "Cell \u001b[0;32mIn[1], line 16\u001b[0m, in \u001b[0;36mSpeechGridInterface.__init__\u001b[0;34m(self, config_file)\u001b[0m\n\u001b[1;32m     15\u001b[0m \u001b[38;5;28;01mdef\u001b[39;00m \u001b[38;5;21m__init__\u001b[39m(\u001b[38;5;28mself\u001b[39m, config_file):\n\u001b[0;32m---> 16\u001b[0m     \u001b[38;5;28;43msuper\u001b[39;49m\u001b[43m(\u001b[49m\u001b[43m)\u001b[49m\u001b[38;5;241;43m.\u001b[39;49m\u001b[38;5;21;43m__init__\u001b[39;49m\u001b[43m(\u001b[49m\u001b[43mconfig_file\u001b[49m\u001b[38;5;241;43m=\u001b[39;49m\u001b[43mconfig_file\u001b[49m\u001b[43m)\u001b[49m\n\u001b[1;32m     17\u001b[0m     \u001b[38;5;66;03m#self.speech_grid = SpeechGrid(config_file=config_file)\u001b[39;00m\n\u001b[1;32m     18\u001b[0m     \u001b[38;5;28mself\u001b[39m\u001b[38;5;241m.\u001b[39mtasks \u001b[38;5;241m=\u001b[39m []\n",
      "File \u001b[0;32m~/root/projects/speechgrid/speechgrid.py:31\u001b[0m, in \u001b[0;36mSpeechGrid.__init__\u001b[0;34m(self, config_file)\u001b[0m\n\u001b[1;32m     27\u001b[0m \u001b[38;5;28;01mexcept\u001b[39;00m \u001b[38;5;167;01mOSError\u001b[39;00m \u001b[38;5;28;01mas\u001b[39;00m e:\n\u001b[1;32m     28\u001b[0m     logger\u001b[38;5;241m.\u001b[39merror(\u001b[38;5;124mf\u001b[39m\u001b[38;5;124m\"\u001b[39m\u001b[38;5;124mFile access error: \u001b[39m\u001b[38;5;132;01m{\u001b[39;00me\u001b[38;5;132;01m}\u001b[39;00m\u001b[38;5;124m\"\u001b[39m)\n\u001b[0;32m---> 31\u001b[0m \u001b[38;5;28mself\u001b[39m\u001b[38;5;241m.\u001b[39mavailable_tasks \u001b[38;5;241m=\u001b[39m \u001b[38;5;28;43mself\u001b[39;49m\u001b[38;5;241;43m.\u001b[39;49m\u001b[43mconfig\u001b[49m[\u001b[38;5;124m'\u001b[39m\u001b[38;5;124mspeechgrid\u001b[39m\u001b[38;5;124m'\u001b[39m][\u001b[38;5;124m'\u001b[39m\u001b[38;5;124mtasks\u001b[39m\u001b[38;5;124m'\u001b[39m]\n\u001b[1;32m     32\u001b[0m \u001b[38;5;28mself\u001b[39m\u001b[38;5;241m.\u001b[39mspeech_label \u001b[38;5;241m=\u001b[39m \u001b[38;5;28mself\u001b[39m\u001b[38;5;241m.\u001b[39mconfig[\u001b[38;5;124m'\u001b[39m\u001b[38;5;124mspeechgrid\u001b[39m\u001b[38;5;124m'\u001b[39m][\u001b[38;5;124m'\u001b[39m\u001b[38;5;124mspeech_label\u001b[39m\u001b[38;5;124m'\u001b[39m]\n\u001b[1;32m     33\u001b[0m \u001b[38;5;28mself\u001b[39m\u001b[38;5;241m.\u001b[39mmax_dur \u001b[38;5;241m=\u001b[39m \u001b[38;5;28mself\u001b[39m\u001b[38;5;241m.\u001b[39mconfig[\u001b[38;5;124m'\u001b[39m\u001b[38;5;124mspeechgrid\u001b[39m\u001b[38;5;124m'\u001b[39m][\u001b[38;5;124m'\u001b[39m\u001b[38;5;124mmax_dur\u001b[39m\u001b[38;5;124m'\u001b[39m]\n",
      "\u001b[0;31mAttributeError\u001b[0m: 'SpeechGridInterface' object has no attribute 'config'"
     ]
    }
   ],
   "source": [
    "speech_grid_interface = SpeechGridInterface(config_file='configh.yaml')"
   ]
  },
  {
   "cell_type": "code",
   "execution_count": 15,
   "id": "9b02dece-098a-4641-ae45-771c131c3158",
   "metadata": {},
   "outputs": [
    {
     "data": {
      "text/plain": [
       "'user_install'"
      ]
     },
     "execution_count": 15,
     "metadata": {},
     "output_type": "execute_result"
    }
   ],
   "source": [
    "os.path.splitext(os.path.basename('/en/stable/user_install.html'))[0]"
   ]
  },
  {
   "cell_type": "code",
   "execution_count": 19,
   "id": "27b40d55-023b-4532-af00-baea9cb4ea06",
   "metadata": {},
   "outputs": [
    {
     "name": "stderr",
     "output_type": "stream",
     "text": [
      "2024-10-19 23:25:23,612 - httpx - INFO - HTTP Request: GET http://127.0.0.1:7871/startup-events \"HTTP/1.1 200 OK\"\n",
      "2024-10-19 23:25:23,612 - httpx - INFO - HTTP Request: GET http://127.0.0.1:7871/startup-events \"HTTP/1.1 200 OK\"\n",
      "2024-10-19 23:25:23,619 - httpx - INFO - HTTP Request: HEAD http://127.0.0.1:7871/ \"HTTP/1.1 200 OK\"\n",
      "2024-10-19 23:25:23,619 - httpx - INFO - HTTP Request: HEAD http://127.0.0.1:7871/ \"HTTP/1.1 200 OK\"\n"
     ]
    },
    {
     "name": "stdout",
     "output_type": "stream",
     "text": [
      "Running on local URL:  http://127.0.0.1:7871\n",
      "\n",
      "To create a public link, set `share=True` in `launch()`.\n"
     ]
    },
    {
     "data": {
      "text/html": [
       "<div><iframe src=\"http://127.0.0.1:7871/\" width=\"100%\" height=\"500\" allow=\"autoplay; camera; microphone; clipboard-read; clipboard-write;\" frameborder=\"0\" allowfullscreen></iframe></div>"
      ],
      "text/plain": [
       "<IPython.core.display.HTML object>"
      ]
     },
     "metadata": {},
     "output_type": "display_data"
    },
    {
     "data": {
      "text/plain": []
     },
     "execution_count": 19,
     "metadata": {},
     "output_type": "execute_result"
    },
    {
     "name": "stderr",
     "output_type": "stream",
     "text": [
      "2024-10-19 23:25:24,325 - httpx - INFO - HTTP Request: GET https://api.gradio.app/pkg-version \"HTTP/1.1 200 OK\"\n",
      "2024-10-19 23:25:24,325 - httpx - INFO - HTTP Request: GET https://api.gradio.app/pkg-version \"HTTP/1.1 200 OK\"\n",
      "/Users/z5173707/root/projects/FHS/venv/python3.12.6/lib/python3.12/site-packages/gradio/analytics.py:106: UserWarning: IMPORTANT: You are using gradio version 4.44.0, however version 4.44.1 is available, please upgrade. \n",
      "--------\n",
      "  warnings.warn(\n"
     ]
    },
    {
     "name": "stdout",
     "output_type": "stream",
     "text": [
      "/private/var/folders/jt/gv0905117tv57783psrrf40h0000gq/T/gradio/20092352344e470900fd53d0c10a66562306194b6394e8d6958d3085f87f3183/audio.wav\n"
     ]
    },
    {
     "name": "stderr",
     "output_type": "stream",
     "text": [
      "2024-10-19 23:25:30,081 - __main__ - INFO - Loading Speech File...\n",
      "2024-10-19 23:25:30,081 - __main__ - INFO - Loading Speech File...\n",
      "2024-10-19 23:25:30,090 - __main__ - INFO - Start processing, following tasks will be performed on file_125_20241019_232530 VAD,SD,ASR\n",
      "2024-10-19 23:25:30,090 - __main__ - INFO - Start processing, following tasks will be performed on file_125_20241019_232530 VAD,SD,ASR\n",
      "2024-10-19 23:25:30,091 - __main__ - INFO - Applying VAD...\n",
      "2024-10-19 23:25:30,091 - __main__ - INFO - Applying VAD...\n",
      "2024-10-19 23:25:30,190 - __main__ - INFO - Applying SD...\n",
      "2024-10-19 23:25:30,190 - __main__ - INFO - Applying SD...\n",
      "2024-10-19 23:25:31,102 - __main__ - INFO - Applying ASR...\n",
      "2024-10-19 23:25:31,102 - __main__ - INFO - Applying ASR...\n",
      "2024-10-19 23:25:34,517 - __main__ - INFO - Saving output files in /Users/z5173707/root/projects/speechgrid/output, file_125_20241019_232530\n",
      "2024-10-19 23:25:34,517 - __main__ - INFO - Saving output files in /Users/z5173707/root/projects/speechgrid/output, file_125_20241019_232530\n",
      "2024-10-19 23:25:34,520 - __main__ - INFO - Processing file_125_20241019_232530 is completed\n",
      "2024-10-19 23:25:34,520 - __main__ - INFO - Processing file_125_20241019_232530 is completed\n",
      "/Users/z5173707/root/projects/FHS/venv/python3.12.6/lib/python3.12/site-packages/gradio/processing_utils.py:579: UserWarning: Trying to convert audio automatically from int32 to 16-bit int format.\n",
      "  warnings.warn(warning.format(data.dtype))\n",
      "ERROR:    Exception in ASGI application\n",
      "Traceback (most recent call last):\n",
      "  File \"/Users/z5173707/root/projects/FHS/venv/python3.12.6/lib/python3.12/site-packages/uvicorn/protocols/http/h11_impl.py\", line 406, in run_asgi\n",
      "    result = await app(  # type: ignore[func-returns-value]\n",
      "             ^^^^^^^^^^^^^^^^^^^^^^^^^^^^^^^^^^^^^^^^^^^^^^\n",
      "  File \"/Users/z5173707/root/projects/FHS/venv/python3.12.6/lib/python3.12/site-packages/uvicorn/middleware/proxy_headers.py\", line 60, in __call__\n",
      "    return await self.app(scope, receive, send)\n",
      "           ^^^^^^^^^^^^^^^^^^^^^^^^^^^^^^^^^^^^\n",
      "  File \"/Users/z5173707/root/projects/FHS/venv/python3.12.6/lib/python3.12/site-packages/fastapi/applications.py\", line 1054, in __call__\n",
      "    await super().__call__(scope, receive, send)\n",
      "  File \"/Users/z5173707/root/projects/FHS/venv/python3.12.6/lib/python3.12/site-packages/starlette/applications.py\", line 113, in __call__\n",
      "    await self.middleware_stack(scope, receive, send)\n",
      "  File \"/Users/z5173707/root/projects/FHS/venv/python3.12.6/lib/python3.12/site-packages/starlette/middleware/errors.py\", line 187, in __call__\n",
      "    raise exc\n",
      "  File \"/Users/z5173707/root/projects/FHS/venv/python3.12.6/lib/python3.12/site-packages/starlette/middleware/errors.py\", line 165, in __call__\n",
      "    await self.app(scope, receive, _send)\n",
      "  File \"/Users/z5173707/root/projects/FHS/venv/python3.12.6/lib/python3.12/site-packages/gradio/route_utils.py\", line 761, in __call__\n",
      "    await self.app(scope, receive, send)\n",
      "  File \"/Users/z5173707/root/projects/FHS/venv/python3.12.6/lib/python3.12/site-packages/starlette/middleware/exceptions.py\", line 62, in __call__\n",
      "    await wrap_app_handling_exceptions(self.app, conn)(scope, receive, send)\n",
      "  File \"/Users/z5173707/root/projects/FHS/venv/python3.12.6/lib/python3.12/site-packages/starlette/_exception_handler.py\", line 62, in wrapped_app\n",
      "    raise exc\n",
      "  File \"/Users/z5173707/root/projects/FHS/venv/python3.12.6/lib/python3.12/site-packages/starlette/_exception_handler.py\", line 51, in wrapped_app\n",
      "    await app(scope, receive, sender)\n",
      "  File \"/Users/z5173707/root/projects/FHS/venv/python3.12.6/lib/python3.12/site-packages/starlette/routing.py\", line 715, in __call__\n",
      "    await self.middleware_stack(scope, receive, send)\n",
      "  File \"/Users/z5173707/root/projects/FHS/venv/python3.12.6/lib/python3.12/site-packages/starlette/routing.py\", line 735, in app\n",
      "    await route.handle(scope, receive, send)\n",
      "  File \"/Users/z5173707/root/projects/FHS/venv/python3.12.6/lib/python3.12/site-packages/starlette/routing.py\", line 288, in handle\n",
      "    await self.app(scope, receive, send)\n",
      "  File \"/Users/z5173707/root/projects/FHS/venv/python3.12.6/lib/python3.12/site-packages/starlette/routing.py\", line 76, in app\n",
      "    await wrap_app_handling_exceptions(app, request)(scope, receive, send)\n",
      "  File \"/Users/z5173707/root/projects/FHS/venv/python3.12.6/lib/python3.12/site-packages/starlette/_exception_handler.py\", line 62, in wrapped_app\n",
      "    raise exc\n",
      "  File \"/Users/z5173707/root/projects/FHS/venv/python3.12.6/lib/python3.12/site-packages/starlette/_exception_handler.py\", line 51, in wrapped_app\n",
      "    await app(scope, receive, sender)\n",
      "  File \"/Users/z5173707/root/projects/FHS/venv/python3.12.6/lib/python3.12/site-packages/starlette/routing.py\", line 74, in app\n",
      "    await response(scope, receive, send)\n",
      "  File \"/Users/z5173707/root/projects/FHS/venv/python3.12.6/lib/python3.12/site-packages/starlette/responses.py\", line 338, in __call__\n",
      "    await send(\n",
      "  File \"/Users/z5173707/root/projects/FHS/venv/python3.12.6/lib/python3.12/site-packages/starlette/_exception_handler.py\", line 48, in sender\n",
      "    await send(message)\n",
      "  File \"/Users/z5173707/root/projects/FHS/venv/python3.12.6/lib/python3.12/site-packages/starlette/_exception_handler.py\", line 48, in sender\n",
      "    await send(message)\n",
      "  File \"/Users/z5173707/root/projects/FHS/venv/python3.12.6/lib/python3.12/site-packages/starlette/middleware/errors.py\", line 162, in _send\n",
      "    await send(message)\n",
      "  File \"/Users/z5173707/root/projects/FHS/venv/python3.12.6/lib/python3.12/site-packages/uvicorn/protocols/http/h11_impl.py\", line 510, in send\n",
      "    output = self.conn.send(event=h11.EndOfMessage())\n",
      "             ^^^^^^^^^^^^^^^^^^^^^^^^^^^^^^^^^^^^^^^^\n",
      "  File \"/Users/z5173707/root/projects/FHS/venv/python3.12.6/lib/python3.12/site-packages/h11/_connection.py\", line 512, in send\n",
      "    data_list = self.send_with_data_passthrough(event)\n",
      "                ^^^^^^^^^^^^^^^^^^^^^^^^^^^^^^^^^^^^^^\n",
      "  File \"/Users/z5173707/root/projects/FHS/venv/python3.12.6/lib/python3.12/site-packages/h11/_connection.py\", line 545, in send_with_data_passthrough\n",
      "    writer(event, data_list.append)\n",
      "  File \"/Users/z5173707/root/projects/FHS/venv/python3.12.6/lib/python3.12/site-packages/h11/_writers.py\", line 67, in __call__\n",
      "    self.send_eom(event.headers, write)\n",
      "  File \"/Users/z5173707/root/projects/FHS/venv/python3.12.6/lib/python3.12/site-packages/h11/_writers.py\", line 96, in send_eom\n",
      "    raise LocalProtocolError(\"Too little data for declared Content-Length\")\n",
      "h11._util.LocalProtocolError: Too little data for declared Content-Length\n"
     ]
    },
    {
     "name": "stdout",
     "output_type": "stream",
     "text": [
      "/private/var/folders/jt/gv0905117tv57783psrrf40h0000gq/T/gradio/15b254eaba22a5d571699b455ab9113520d7e73c892f380a0157d56b42335d56/taukdial-010-1.wav\n"
     ]
    },
    {
     "name": "stderr",
     "output_type": "stream",
     "text": [
      "2024-10-19 23:26:42,227 - __main__ - INFO - Loading Speech File...\n",
      "2024-10-19 23:26:42,227 - __main__ - INFO - Loading Speech File...\n",
      "2024-10-19 23:26:42,239 - __main__ - INFO - Start processing, following tasks will be performed on taukdial-010-1 VAD,SD,ASR\n",
      "2024-10-19 23:26:42,239 - __main__ - INFO - Start processing, following tasks will be performed on taukdial-010-1 VAD,SD,ASR\n",
      "2024-10-19 23:26:42,241 - __main__ - INFO - Applying VAD...\n",
      "2024-10-19 23:26:42,241 - __main__ - INFO - Applying VAD...\n",
      "2024-10-19 23:26:44,073 - __main__ - INFO - Applying SD...\n",
      "2024-10-19 23:26:44,073 - __main__ - INFO - Applying SD...\n",
      "2024-10-19 23:27:13,909 - __main__ - INFO - Applying ASR...\n",
      "2024-10-19 23:27:13,909 - __main__ - INFO - Applying ASR...\n",
      "2024-10-19 23:27:25,017 - __main__ - INFO - Saving output files in /Users/z5173707/root/projects/speechgrid/output, taukdial-010-1\n",
      "2024-10-19 23:27:25,017 - __main__ - INFO - Saving output files in /Users/z5173707/root/projects/speechgrid/output, taukdial-010-1\n",
      "2024-10-19 23:27:25,027 - __main__ - INFO - Processing taukdial-010-1 is completed\n",
      "2024-10-19 23:27:25,027 - __main__ - INFO - Processing taukdial-010-1 is completed\n"
     ]
    }
   ],
   "source": [
    "shareable = False\n",
    "from core.utils import generate_file_basename, load_speech_file, zip_files\n",
    "import soundfile as sf\n",
    "#TODO: Progress bar\n",
    "#TODO: VAD ########DONE\n",
    "#TODO: Number of speakers  ######DONE\n",
    "#TODO: Word alignment\n",
    "#TODO: Download button  ######DONE\n",
    "#TODO: Wrape in a docker #####DONE\n",
    "#TODO: Test pyannote offline  ########DONE\n",
    "#TODO: Logging of errors and info    #########IN PROGRESS\n",
    "#TODO: ASR with LM  ########DONE\n",
    "#TODO: Process batch\n",
    "#TODO: Kaldi ASR\n",
    "#TODO: MMS ASR   ######DONE\n",
    "#TODO: Add parameters selection for ASR, SD, VAD\n",
    "#TODO: Rewrite the textgrid\n",
    "#TODO: TextGrid code to get the logger and use logging instead of print.\n",
    "#TODO: Add logging to other packages\n",
    "#TODO: Use .bin instead of ARPA in LM\n",
    "#TODO: ASR add the expected words\n",
    "#TODO: Consider control the offset in interval ASR\n",
    "#TODO: Add parameters of min silence duration #NEED TO WELL UNDERSTAND THESE PARAMETERS\n",
    "#TODO: Create set, get for speaker number\n",
    "#TODO: Name of file as the uploaded file\n",
    "#TODO: Make process enable after loading or recording ####DONE####\n",
    "#TODO: Use import tempfile to access the temp dir if need to do so\n",
    "#TODO: Review the use of get and set, use @property instead or direct access\n",
    "\n",
    "def reset_min_max(exact,min_v,max_v):\n",
    "    if exact > 0:\n",
    "        min_v = 0\n",
    "        max_v = 0\n",
    "    speech_grid_interface.set_speaker_numbers(exact, min_v, max_v)\n",
    "    return exact, min_v, max_v\n",
    "\n",
    "def validate_min_max(exact, min_v, max_v):\n",
    "    if min_v > 0 or max_v > 0:\n",
    "        exact = 0\n",
    "        if min_v > max_v:\n",
    "            max_v = min_v\n",
    "    speech_grid_interface.set_speaker_numbers(exact, min_v, max_v)\n",
    "    return exact, min_v, max_v\n",
    "\n",
    "def audio_stat(audio_value):\n",
    "    if audio_value:\n",
    "        print(audio_value)\n",
    "        return gr.Button(\"Process Audio\", interactive=True)\n",
    "    else:\n",
    "        return gr.Button(\"Process Audio\", interactive=False)\n",
    "\n",
    "def audio_record():\n",
    "    speech_grid_interface.recorded_speech = True\n",
    "\n",
    "def audio_upload():\n",
    "    speech_grid_interface.recorded_speech = False\n",
    "\n",
    "with gr.Blocks(title=\"SpeechGrid\", theme=gr.themes.Soft()) as gui:\n",
    "\n",
    "    with gr.Tab('Main'):\n",
    "\n",
    "        record_audio = gr.Audio(sources=[\"microphone\",\"upload\"], type=\"filepath\")\n",
    "        \n",
    "        \n",
    "    \n",
    "        tasks = gr.CheckboxGroup(choices=[(\"Speech to Text\",\"ASR\"),\n",
    "                                          (\"Speaker Separation\",\"SD\"),\n",
    "                                          (\"Speech Detection\",\"VAD\")],\n",
    "                                 value=speech_grid_interface.get_tasks(),\n",
    "                                 label=\"Tasks\",\n",
    "                                 info=\"Apply the following tasks:\")\n",
    "        tasks.input(speech_grid_interface.set_tasks, inputs=tasks)\n",
    "            \n",
    "    \n",
    "        process = gr.Button(\"Process Audio\", interactive=False)\n",
    "\n",
    "        record_audio.input(audio_stat, inputs=record_audio, outputs=process)\n",
    "        record_audio.stop_recording(audio_record)\n",
    "        record_audio.upload(audio_upload)\n",
    "    \n",
    "        output_text = gr.Textbox(label='Progress', interactive=False)\n",
    "        with gr.Row():\n",
    "            with gr.Column():\n",
    "                d1 = gr.DownloadButton(\"Download output\", visible=False)\n",
    "            with gr.Column():\n",
    "                d2 = gr.DownloadButton(\"Download speech file\", visible=False)\n",
    "    \n",
    "        \n",
    "        \n",
    "    with gr.Tab('Advanced Options'):\n",
    "        gr.Markdown(\n",
    "            \"\"\"\n",
    "            ### Speaker Separation\n",
    "            Number of speakers\n",
    "            \"\"\")\n",
    "        with gr.Row():\n",
    "            n_exact = gr.Number(label='Exact')\n",
    "            n_min = gr.Number(label='Minimum')\n",
    "            n_max = gr.Number(label='Maximum')\n",
    "\n",
    "            n_exact.input(reset_min_max,\n",
    "                           inputs=[n_exact, n_min, n_max],\n",
    "                          outputs=[n_exact, n_min, n_max])\n",
    "            n_min.input(validate_min_max,\n",
    "                        inputs=[n_exact, n_min, n_max],\n",
    "                        outputs=[n_exact, n_min, n_max])\n",
    "            n_max.input(validate_min_max,\n",
    "                        inputs=[n_exact, n_min, n_max],\n",
    "                        outputs=[n_exact, n_min, n_max])\n",
    "        gr.Markdown(\n",
    "            \"\"\"\n",
    "            ### Speech to Text\n",
    "            \"\"\"\n",
    "        )\n",
    "        with gr.Row():\n",
    "            avail_lang = [(k,v) for k,v in speech_grid_interface.get_asr_available_lang().items()]\n",
    "            lang_drop = gr.Dropdown(label='Language', choices=avail_lang, value=speech_grid_interface.get_asr_lang())\n",
    "            lang_drop.change(speech_grid_interface.set_asr_lang,\n",
    "                            inputs=lang_drop)\n",
    "\n",
    "            is_lm_enabled = speech_grid_interface.get_lm_enable()\n",
    "            lm_enable = gr.Checkbox(label='Enable Language Model', value=is_lm_enabled, interactive=True)\n",
    "            lm_enable.change(speech_grid_interface.set_lm_enable,\n",
    "                            inputs=lm_enable)\n",
    "    \n",
    "    process.click(speech_grid_interface.process, \n",
    "                      inputs=record_audio,\n",
    "                      outputs=[output_text, d1, d2])\n",
    "     \n",
    "gui.queue().launch(share=shareable)"
   ]
  },
  {
   "cell_type": "markdown",
   "id": "e6850897-52d5-4037-a505-90f112605102",
   "metadata": {},
   "source": [
    "# V0"
   ]
  },
  {
   "cell_type": "code",
   "execution_count": 1,
   "id": "b160df86-17e4-4764-8df3-7627398f5dfb",
   "metadata": {},
   "outputs": [
    {
     "name": "stderr",
     "output_type": "stream",
     "text": [
      "/Users/z5173707/root/projects/FHS/venv/python3.12.6/lib/python3.12/site-packages/tqdm/auto.py:21: TqdmWarning: IProgress not found. Please update jupyter and ipywidgets. See https://ipywidgets.readthedocs.io/en/stable/user_install.html\n",
      "  from .autonotebook import tqdm as notebook_tqdm\n"
     ]
    }
   ],
   "source": [
    "import os\n",
    "import logging\n",
    "import soundfile as sf\n",
    "import gradio as gr\n",
    "\n",
    "from speechgrid import SpeechGrid\n",
    "from config import setup_logger, output_dir\n",
    "from core.utils import generate_file_basename, load_speech_file, zip_files\n",
    "\n",
    "\n",
    "setup_logger()\n",
    "logger = logging.getLogger(__name__)\n",
    "\n",
    "class SpeechGridInterface:\n",
    "    def __init__(self, config_file):\n",
    "        self.speech_grid = SpeechGrid(config_file=config_file)\n",
    "        self.tasks = []\n",
    "        #Options\n",
    "        \n",
    "\n",
    "    def add_task(self, task):\n",
    "        if task not in self.tasks:\n",
    "            self.tasks.append(task)\n",
    "\n",
    "    def remove_task(self, task):\n",
    "        if task in self.tasks:\n",
    "            self.tasks.remove(task)\n",
    "\n",
    "    def set_tasks(self, tasks):\n",
    "        self.tasks = tasks\n",
    "        \n",
    "    def get_tasks(self):\n",
    "        return self.tasks\n",
    "\n",
    "\n",
    "    def process(self, path, mode='single', progress=gr.Progress()): #input either a speech file o\n",
    "        self.speech_grid.load_tasks(self.get_tasks())\n",
    "\n",
    "        if mode=='single':\n",
    "            speech_file, output_zip_file, wav_file_created, out_file_created = self.process_file(path, progress = progress)\n",
    "            if wav_file_created:\n",
    "                download_speech_enable = True\n",
    "                download_speech_value = speech_file\n",
    "                download_speech_label = f\"Download speech file\"\n",
    "            else:\n",
    "                download_speech_enable = False\n",
    "                download_speech_value = None\n",
    "                download_speech_label = \"Error in saving speech file\"\n",
    "                \n",
    "            if out_file_created:\n",
    "                download_data_enable = True\n",
    "                download_data_value = output_zip_file\n",
    "                download_data_label = f\"Download output file\"\n",
    "            else:\n",
    "                download_data_enable = False\n",
    "                download_data_value = None\n",
    "                download_data_label = \"Error in archiving data\"\n",
    "\n",
    "            return [\"Processing completed..\", \n",
    "                gr.DownloadButton(label=download_data_label,\n",
    "                                  value=download_data_value,\n",
    "                                  interactive=download_data_enable,\n",
    "                                  visible=True),\n",
    "                \n",
    "                gr.DownloadButton(label=download_speech_label,\n",
    "                                  value=download_speech_value,\n",
    "                                  interactive=download_speech_enable,\n",
    "                                  visible=True)]\n",
    "    \n",
    "    def apply_tasks_to_speech(self, task_pipeline, speech, basename, sr=16000, progress = gr.Progress()):\n",
    "        out_textgrid = []\n",
    "\n",
    "        num_processes = len(task_pipeline)+1\n",
    "        i = 1\n",
    "        for task in task_pipeline:\n",
    "            logger.info(f'Applying {task}...')\n",
    "            progress(i/(num_processes+1), desc=f\"Applying {task}\")\n",
    "            i += 1\n",
    "            if task == 'ASR':\n",
    "                asr_engine = self.speech_grid.loaded_tasks['ASR']\n",
    "                textgrid_file = os.path.join(output_dir,f'{basename}_ASR.TextGrid')\n",
    "                if not out_textgrid:\n",
    "                    asr_engine.process_speech(speech)\n",
    "                else:\n",
    "                    input_textgrid = out_textgrid[-1]\n",
    "                    asr_engine.process_intervals(speech, input_textgrid, sr = sr, offset_sec=0, \n",
    "                                                 speech_label = self.speech_grid.speech_label)\n",
    "                \n",
    "                asr_engine.write_textgrid(textgrid_file)\n",
    "                out_textgrid.append(textgrid_file)\n",
    "            \n",
    "            elif task == 'VAD':\n",
    "                vad_engine = self.speech_grid.loaded_tasks['VAD']\n",
    "                rttm_file = os.path.join(output_dir,f'{basename}_VAD.rttm')\n",
    "                textgrid_file = os.path.join(output_dir,f'{basename}_VAD.TextGrid')\n",
    "                vad_engine.process_speech(speech,sr)\n",
    "                vad_engine.write_rttm(rttm_file)\n",
    "                vad_engine.write_textgrid(textgrid_file, speech_label=self.speech_grid.speech_label)\n",
    "                out_textgrid.append(textgrid_file)\n",
    "            \n",
    "            elif task == 'SD':\n",
    "                sd_engine = self.speech_grid.loaded_tasks['SD']\n",
    "                rttm_file = os.path.join(output_dir,f'{basename}_SD.rttm')\n",
    "                textgrid_file = os.path.join(output_dir,f'{basename}_SD.TextGrid')\n",
    "                n_exact_speakers, n_min_speakers, n_max_speakers = self.speech_grid.get_speaker_numbers()\n",
    "                sd_engine.process_speech(speech=speech,\n",
    "                                         sr=sr,\n",
    "                                         n_exact_speakers = n_exact_speakers,\n",
    "                                         n_min_speakers = n_min_speakers,\n",
    "                                         n_max_speakers = n_max_speakers)\n",
    "                sd_engine.write_rttm(rttm_file)\n",
    "                sd_engine.write_textgrid(textgrid_file, speech_label=self.speech_grid.speech_label)\n",
    "                out_textgrid.append(textgrid_file)\n",
    "        \n",
    "        return out_textgrid\n",
    "    \n",
    "    def process_file(self, speech_file, progress=gr.Progress()):\n",
    "        basename = generate_file_basename()\n",
    "\n",
    "        progress(0, desc=f\"Loading Speech File...\")\n",
    "        \n",
    "        logger.info('Loading Speech File...')\n",
    "    \n",
    "        try:\n",
    "            speech, sr, duration = load_speech_file(speech_file)\n",
    "        except Exception as e:\n",
    "            logger.exception(f'Failed to load the speech file {speech_file}, {e}')\n",
    "            raise\n",
    "        \n",
    "        tasks = set(self.get_tasks())\n",
    "        \n",
    "        task_pipeline = self.speech_grid.create_task_pipeline(tasks, duration)\n",
    "    \n",
    "        logger.info(f'Start processing, following tasks will be performed on {basename}', ','.join(task_pipeline))\n",
    "    \n",
    "        #Loading task engines\n",
    "        self.speech_grid.load_tasks(task_pipeline)\n",
    "        \n",
    "        out_textgrid = self.apply_tasks_to_speech(task_pipeline, speech, basename, sr, progress)\n",
    "        \n",
    "        output_zip_file = os.path.join(output_dir,f'{basename}_output.zip')\n",
    "        \n",
    "        progress(1, desc=f\"Generate output files\")\n",
    "    \n",
    "    \n",
    "        logger.info(f'Saving output files in {output_dir}, {basename}')\n",
    "    \n",
    "        #This save a version of the speech file with 16k, mono, 16bit\n",
    "        wav_file_created = True\n",
    "        out_file_created = True\n",
    "        try:\n",
    "            speech_file = os.path.join(output_dir,f'{basename}.wav')\n",
    "            sf.write(speech_file, speech, sr)\n",
    "\n",
    "        except Exception as e:\n",
    "            logger.exception(f'Failed to save the speech file {speech_file}, {e}')\n",
    "            wav_file_created = False\n",
    "        \n",
    "        try:\n",
    "            p = zip_files(out_textgrid, output_zip_file)\n",
    "       \n",
    "        except Exception as e:\n",
    "            logger.exception(f'Failed to create output archive in {output_zip_file}, {e}')\n",
    "            out_file_created = False\n",
    "      \n",
    "         \n",
    "        progress(1, desc=f\"Processing {basename} completed..\")\n",
    "    \n",
    "        logger.info(f'Processing {basename} is completed')\n",
    "\n",
    "        return (speech_file, output_zip_file, wav_file_created, out_file_created)\n",
    "        \n",
    "        "
   ]
  },
  {
   "cell_type": "code",
   "execution_count": 1,
   "id": "a9358ecd-df9b-47a4-b08d-e272b41c79bd",
   "metadata": {},
   "outputs": [
    {
     "name": "stderr",
     "output_type": "stream",
     "text": [
      "/Users/z5173707/root/projects/FHS/venv/python3.12.6/lib/python3.12/site-packages/tqdm/auto.py:21: TqdmWarning: IProgress not found. Please update jupyter and ipywidgets. See https://ipywidgets.readthedocs.io/en/stable/user_install.html\n",
      "  from .autonotebook import tqdm as notebook_tqdm\n"
     ]
    }
   ],
   "source": [
    "import os\n",
    "import logging\n",
    "import soundfile as sf\n",
    "import gradio as gr\n",
    "\n",
    "from speechgrid import SpeechGrid\n",
    "from config import setup_logger, output_dir\n",
    "from core.utils import generate_file_basename, load_speech_file, zip_files\n",
    "\n",
    "\n",
    "setup_logger()\n",
    "logger = logging.getLogger(__name__)\n",
    "\n",
    "class SpeechGridInterface(SpeechGrid):\n",
    "    def __init__(self, config_file):\n",
    "        super().__init__(config_file=config_file)\n",
    "        #self.speech_grid = SpeechGrid(config_file=config_file)\n",
    "        self.tasks = []\n",
    "        #Options\n",
    "        \n",
    "\n",
    "    def add_task(self, task):\n",
    "        if task not in self.tasks:\n",
    "            self.tasks.append(task)\n",
    "\n",
    "    def remove_task(self, task):\n",
    "        if task in self.tasks:\n",
    "            self.tasks.remove(task)\n",
    "\n",
    "    def set_tasks(self, tasks):\n",
    "        self.tasks = tasks\n",
    "        \n",
    "    def get_tasks(self):\n",
    "        return self.tasks\n",
    "\n",
    "\n",
    "    def process(self, path, mode='single', progress=gr.Progress()): #input either a speech file o\n",
    "        self.load_tasks(self.get_tasks())\n",
    "\n",
    "        if mode=='single':\n",
    "            speech_file, output_zip_file, wav_file_created, out_file_created = self.process_file(path, progress = progress)\n",
    "            if wav_file_created:\n",
    "                download_speech_enable = True\n",
    "                download_speech_value = speech_file\n",
    "                download_speech_label = f\"Download speech file\"\n",
    "            else:\n",
    "                download_speech_enable = False\n",
    "                download_speech_value = None\n",
    "                download_speech_label = \"Error in saving speech file\"\n",
    "                \n",
    "            if out_file_created:\n",
    "                download_data_enable = True\n",
    "                download_data_value = output_zip_file\n",
    "                download_data_label = f\"Download output file\"\n",
    "            else:\n",
    "                download_data_enable = False\n",
    "                download_data_value = None\n",
    "                download_data_label = \"Error in archiving data\"\n",
    "\n",
    "            return [\"Processing completed..\", \n",
    "                gr.DownloadButton(label=download_data_label,\n",
    "                                  value=download_data_value,\n",
    "                                  interactive=download_data_enable,\n",
    "                                  visible=True),\n",
    "                \n",
    "                gr.DownloadButton(label=download_speech_label,\n",
    "                                  value=download_speech_value,\n",
    "                                  interactive=download_speech_enable,\n",
    "                                  visible=True)]\n",
    "    \n",
    "    def apply_tasks_to_speech(self, task_pipeline, speech, basename, sr=16000, progress = gr.Progress()):\n",
    "        out_textgrid = []\n",
    "\n",
    "        num_processes = len(task_pipeline)+1\n",
    "        i = 1\n",
    "        for task in task_pipeline:\n",
    "            logger.info(f'Applying {task}...')\n",
    "            progress(i/(num_processes+1), desc=f\"Applying {task}\")\n",
    "            i += 1\n",
    "            if task == 'ASR':\n",
    "                asr_engine = self.loaded_tasks['ASR']\n",
    "                textgrid_file = os.path.join(output_dir,f'{basename}_ASR.TextGrid')\n",
    "                if not out_textgrid:\n",
    "                    asr_engine.process_speech(speech)\n",
    "                else:\n",
    "                    input_textgrid = out_textgrid[-1]\n",
    "                    asr_engine.process_intervals(speech, input_textgrid, sr = sr, offset_sec=0, \n",
    "                                                 speech_label = self.speech_label)\n",
    "                \n",
    "                asr_engine.write_textgrid(textgrid_file)\n",
    "                out_textgrid.append(textgrid_file)\n",
    "            \n",
    "            elif task == 'VAD':\n",
    "                vad_engine = self.loaded_tasks['VAD']\n",
    "                rttm_file = os.path.join(output_dir,f'{basename}_VAD.rttm')\n",
    "                textgrid_file = os.path.join(output_dir,f'{basename}_VAD.TextGrid')\n",
    "                vad_engine.process_speech(speech,sr)\n",
    "                vad_engine.write_rttm(rttm_file)\n",
    "                vad_engine.write_textgrid(textgrid_file, speech_label=self.speech_label)\n",
    "                out_textgrid.append(textgrid_file)\n",
    "            \n",
    "            elif task == 'SD':\n",
    "                sd_engine = self.loaded_tasks['SD']\n",
    "                rttm_file = os.path.join(output_dir,f'{basename}_SD.rttm')\n",
    "                textgrid_file = os.path.join(output_dir,f'{basename}_SD.TextGrid')\n",
    "                n_exact_speakers, n_min_speakers, n_max_speakers = self.get_speaker_numbers()\n",
    "                sd_engine.process_speech(speech=speech,\n",
    "                                         sr=sr,\n",
    "                                         n_exact_speakers = n_exact_speakers,\n",
    "                                         n_min_speakers = n_min_speakers,\n",
    "                                         n_max_speakers = n_max_speakers)\n",
    "                sd_engine.write_rttm(rttm_file)\n",
    "                sd_engine.write_textgrid(textgrid_file, speech_label=self.speech_label)\n",
    "                out_textgrid.append(textgrid_file)\n",
    "        \n",
    "        return out_textgrid\n",
    "    \n",
    "    def process_file(self, speech_file, progress=gr.Progress()):\n",
    "        basename = generate_file_basename()\n",
    "\n",
    "        progress(0, desc=f\"Loading Speech File...\")\n",
    "        \n",
    "        logger.info('Loading Speech File...')\n",
    "    \n",
    "        try:\n",
    "            speech, sr, duration = load_speech_file(speech_file)\n",
    "        except Exception as e:\n",
    "            logger.exception(f'Failed to load the speech file {speech_file}, {e}')\n",
    "            raise\n",
    "        \n",
    "        tasks = set(self.get_tasks())\n",
    "        \n",
    "        task_pipeline = self.create_task_pipeline(tasks, duration)\n",
    "    \n",
    "        logger.info(f'Start processing, following tasks will be performed on {basename}', ','.join(task_pipeline))\n",
    "    \n",
    "        #Loading task engines\n",
    "        self.load_tasks(task_pipeline)\n",
    "        \n",
    "        out_textgrid = self.apply_tasks_to_speech(task_pipeline, speech, basename, sr, progress)\n",
    "        \n",
    "        output_zip_file = os.path.join(output_dir,f'{basename}_output.zip')\n",
    "        \n",
    "        progress(1, desc=f\"Generate output files\")\n",
    "    \n",
    "    \n",
    "        logger.info(f'Saving output files in {output_dir}, {basename}')\n",
    "    \n",
    "        #This save a version of the speech file with 16k, mono, 16bit\n",
    "        wav_file_created = True\n",
    "        out_file_created = True\n",
    "        try:\n",
    "            speech_file = os.path.join(output_dir,f'{basename}.wav')\n",
    "            sf.write(speech_file, speech, sr)\n",
    "\n",
    "        except Exception as e:\n",
    "            logger.exception(f'Failed to save the speech file {speech_file}, {e}')\n",
    "            wav_file_created = False\n",
    "        \n",
    "        try:\n",
    "            p = zip_files(out_textgrid, output_zip_file)\n",
    "       \n",
    "        except Exception as e:\n",
    "            logger.exception(f'Failed to create output archive in {output_zip_file}, {e}')\n",
    "            out_file_created = False\n",
    "      \n",
    "         \n",
    "        progress(1, desc=f\"Processing {basename} completed..\")\n",
    "    \n",
    "        logger.info(f'Processing {basename} is completed')\n",
    "\n",
    "        return (speech_file, output_zip_file, wav_file_created, out_file_created)\n",
    "        \n",
    "        "
   ]
  },
  {
   "cell_type": "code",
   "execution_count": 7,
   "id": "3caabf02-86d4-439f-8f02-06bb00b2624a",
   "metadata": {},
   "outputs": [],
   "source": [
    "import yaml\n",
    "with open('config.yaml', 'r') as f:\n",
    "    data = yaml.safe_load(f)"
   ]
  },
  {
   "cell_type": "code",
   "execution_count": 13,
   "id": "d75d3054-4ee8-4397-a300-1e184b2b671e",
   "metadata": {},
   "outputs": [
    {
     "data": {
      "text/plain": [
       "[('English', 'eng')]"
      ]
     },
     "execution_count": 13,
     "metadata": {},
     "output_type": "execute_result"
    }
   ],
   "source": [
    "[(k,v) for k,v in data['speechgrid']['speech_recognition']['avail_lang'].items()]"
   ]
  },
  {
   "cell_type": "code",
   "execution_count": 21,
   "id": "c1aa68f1-e4f2-4e61-b9aa-5234a0938382",
   "metadata": {},
   "outputs": [
    {
     "data": {
      "text/plain": [
       "bool"
      ]
     },
     "execution_count": 21,
     "metadata": {},
     "output_type": "execute_result"
    }
   ],
   "source": [
    "type(data['speechgrid']['speech_recognition']['lang_model'])"
   ]
  },
  {
   "cell_type": "code",
   "execution_count": 2,
   "id": "432cad4a-93a6-45fc-93b4-a32571835669",
   "metadata": {},
   "outputs": [],
   "source": [
    "speech_grid = SpeechGrid(config_file='config.yaml')"
   ]
  },
  {
   "cell_type": "code",
   "execution_count": 14,
   "id": "47de44f9-3385-4699-972c-fd660479584e",
   "metadata": {},
   "outputs": [
    {
     "name": "stderr",
     "output_type": "stream",
     "text": [
      "Loading the LM will be faster if you build a binary file.\n",
      "Reading /Users/z5173707/root/projects/speechgrid/Models/ASR/LM/ngram/4gram_big.arpa\n",
      "----5---10---15---20---25---30---35---40---45---50---55---60---65---70---75---80---85---90---95--100\n",
      "****************************************************************************************************\n",
      "Found entries of length > 1 in alphabet. This is unusual unless style is BPE, but the alphabet was not recognized as BPE type. Is this correct?\n"
     ]
    }
   ],
   "source": [
    "speech_grid.load_asr()\n",
    "speech_grid.load_sd()\n",
    "speech_grid.load_vad()"
   ]
  },
  {
   "cell_type": "code",
   "execution_count": 1,
   "id": "2f2be438-1ebd-41e0-841b-e88a0658fdfe",
   "metadata": {},
   "outputs": [
    {
     "name": "stderr",
     "output_type": "stream",
     "text": [
      "/Users/z5173707/root/projects/FHS/venv/python3.12.6/lib/python3.12/site-packages/tqdm/auto.py:21: TqdmWarning: IProgress not found. Please update jupyter and ipywidgets. See https://ipywidgets.readthedocs.io/en/stable/user_install.html\n",
      "  from .autonotebook import tqdm as notebook_tqdm\n"
     ]
    }
   ],
   "source": [
    "import os\n",
    "import logging\n",
    "import soundfile as sf\n",
    "import gradio as gr\n",
    "\n",
    "from speechgrid import SpeechGrid\n",
    "from config import setup_logger, output_dir\n",
    "from core.utils import generate_file_basename, load_speech_file, zip_files\n"
   ]
  },
  {
   "cell_type": "code",
   "execution_count": 5,
   "id": "28f8fb51-ae63-4d21-a680-ca9caba4ca4a",
   "metadata": {},
   "outputs": [],
   "source": [
    "speech_grid = SpeechGrid(config_file='config.yaml')"
   ]
  },
  {
   "cell_type": "code",
   "execution_count": 3,
   "id": "095f5515-e38c-445c-ba1e-957b22432c7e",
   "metadata": {},
   "outputs": [],
   "source": [
    "import gradio as gr\n",
    "from config import setup_logger\n",
    "import logging\n",
    "import os\n",
    "from config import output_dir\n",
    "\n",
    "setup_logger()\n",
    "logger = logging.getLogger(__name__)\n",
    "def process_file(speech_file, tasks=['SD', 'ASR'],\n",
    "                 n_exact_speakers = 0,\n",
    "                 n_min_speakers = 0,\n",
    "                 n_max_speakers = 0,\n",
    "                 progress=gr.Progress()):\n",
    "    \n",
    "    basename = generate_file_basename()\n",
    "    \n",
    "\n",
    "    progress(0, desc=f\"Loading Speech File...\")\n",
    "    \n",
    "    logger.info('Loading Speech File...')\n",
    "\n",
    "    try:\n",
    "        speech, sr, duration = load_speech_file(speech_file)\n",
    "    except Exception as e:\n",
    "        logger.exception(f'Failed to load the speech file {speech_file}, {e}')\n",
    "        raise\n",
    "    \n",
    "    tasks = set(tasks)\n",
    "\n",
    "    \n",
    "    \n",
    "    task_pipeline = speech_grid.create_task_pipeline(tasks, duration)\n",
    "\n",
    "    logger.info('Start processing, following tasks will be performed', ','.join(task_pipeline))\n",
    "\n",
    "    #Loading task engines\n",
    "    speech_grid.load_tasks(task_pipeline)\n",
    "    \n",
    "    out_textgrid = []\n",
    "\n",
    "\n",
    "    num_processes = len(task_pipeline)+1\n",
    "    \n",
    "    \n",
    "    i = 1\n",
    "    for task in task_pipeline:\n",
    "        logger.info(f'Applying {task}')\n",
    "        progress(i/(num_processes+1), desc=f\"Applying {task}\")\n",
    "        i += 1\n",
    "        if task == 'ASR':\n",
    "            asr_engine = speech_grid.loaded_tasks['ASR']\n",
    "            textgrid_file = os.path.join(output_dir,f'{basename}_ASR.TextGrid')\n",
    "            if not out_textgrid:\n",
    "                asr_engine.process_speech(speech)\n",
    "            else:\n",
    "                input_textgrid = out_textgrid[-1]\n",
    "                asr_engine.process_intervals(speech, input_textgrid, sr = sr, offset_sec=0, speech_label = speech_grid.speech_label)\n",
    "            \n",
    "            asr_engine.write_textgrid(textgrid_file)\n",
    "            out_textgrid.append(textgrid_file)\n",
    "        \n",
    "        elif task == 'VAD':\n",
    "            vad_engine = speech_grid.loaded_tasks['VAD']\n",
    "            rttm_file = os.path.join(output_dir,f'{basename}_VAD.rttm')\n",
    "            textgrid_file = os.path.join(output_dir,f'{basename}_VAD.TextGrid')\n",
    "            vad_engine.process_speech(speech,sr)\n",
    "            vad_engine.write_rttm(rttm_file)\n",
    "            vad_engine.write_textgrid(textgrid_file, speech_label=speech_grid.speech_label)\n",
    "            out_textgrid.append(textgrid_file)\n",
    "        \n",
    "        elif task == 'SD':\n",
    "            sd_engine = speech_grid.loaded_tasks['SD']\n",
    "            rttm_file = os.path.join(output_dir,f'{basename}_SD.rttm')\n",
    "            textgrid_file = os.path.join(output_dir,f'{basename}_SD.TextGrid')\n",
    "            \n",
    "            sd_engine.process_speech(speech=speech,\n",
    "                                     sr=sr,\n",
    "                                     n_exact_speakers = n_exact_speakers,\n",
    "                                     n_min_speakers = n_min_speakers,\n",
    "                                     n_max_speakers = n_max_speakers)\n",
    "            sd_engine.write_rttm(rttm_file)\n",
    "            sd_engine.write_textgrid(textgrid_file, speech_label=speech_grid.speech_label)\n",
    "            out_textgrid.append(textgrid_file)\n",
    "    \n",
    "    \n",
    "    output_zip_file = os.path.join(output_dir,f'{basename}_output.zip')\n",
    "    \n",
    "    progress(num_processes/(num_processes+1), desc=f\"Generate output files\")\n",
    "\n",
    "\n",
    "    logger.info(f'Saving output files in {output_dir}, {basename}')\n",
    "\n",
    "    #This save a version of the speech file with 16k, mono, 16bit\n",
    "    try:\n",
    "        speech_file = os.path.join(output_dir,f'{basename}.wav')\n",
    "        sf.write(speech_file, speech, sr)\n",
    "        download_speech_enable = True\n",
    "        download_speech_value = speech_file\n",
    "        download_speech_label = f\"Download speech file\"\n",
    "    except Exception as e:\n",
    "        logger.exception(f'Failed to save the speech file {speech_file}, {e}')\n",
    "        download_speech_enable = False\n",
    "        download_speech_value = None\n",
    "        download_speech_label = \"Error in saving speech file\"\n",
    "    \n",
    "    try:\n",
    "        p = zip_files(out_textgrid, output_zip_file)\n",
    "        download_data_enable = True\n",
    "        download_data_value = output_zip_file\n",
    "        download_data_label = f\"Download output file\"\n",
    "   \n",
    "    except Exception as e:\n",
    "        logger.exception(f'Failed to create output archive in {output_zip_file}, {e}')\n",
    "        #Disable Download Data Button\n",
    "        download_data_enable = False\n",
    "        download_data_value = None\n",
    "        download_data_label = \"Error in archiving data\"\n",
    "        \n",
    "        \n",
    "     \n",
    "    progress(1, desc=\"Processing completed..\")\n",
    "\n",
    "    logger.info('Processing is completed')\n",
    "    \n",
    "    return [\"Processing completed..\", \n",
    "            gr.DownloadButton(label=download_data_label,\n",
    "                              value=download_data_value,\n",
    "                              interactive=download_data_enable,\n",
    "                              visible=True),\n",
    "            \n",
    "            gr.DownloadButton(label=download_speech_label,\n",
    "                              value=download_speech_value,\n",
    "                              interactive=download_speech_enable,\n",
    "                              visible=True)]"
   ]
  },
  {
   "cell_type": "code",
   "execution_count": 2,
   "id": "ce0da621-fea8-4fa7-9e88-795b14174e94",
   "metadata": {},
   "outputs": [],
   "source": [
    "speech_grid_interface = SpeechGridInterface(config_file='config.yaml')"
   ]
  },
  {
   "cell_type": "code",
   "execution_count": 13,
   "id": "5a3e81ff-c6d0-4a1e-8234-6aa0ac8ed0e6",
   "metadata": {},
   "outputs": [
    {
     "data": {
      "text/plain": [
       "[]"
      ]
     },
     "execution_count": 13,
     "metadata": {},
     "output_type": "execute_result"
    }
   ],
   "source": [
    "speech_grid_interface.get_tasks()"
   ]
  },
  {
   "cell_type": "code",
   "execution_count": 3,
   "id": "2b64bfca-3d8b-4bde-8c51-36f0c8cf61de",
   "metadata": {},
   "outputs": [
    {
     "name": "stderr",
     "output_type": "stream",
     "text": [
      "2024-10-19 22:02:08,486 - httpx - INFO - HTTP Request: GET http://127.0.0.1:7860/startup-events \"HTTP/1.1 200 OK\"\n",
      "2024-10-19 22:02:08,499 - httpx - INFO - HTTP Request: HEAD http://127.0.0.1:7860/ \"HTTP/1.1 200 OK\"\n"
     ]
    },
    {
     "name": "stdout",
     "output_type": "stream",
     "text": [
      "Running on local URL:  http://127.0.0.1:7860\n",
      "\n",
      "To create a public link, set `share=True` in `launch()`.\n"
     ]
    },
    {
     "data": {
      "text/html": [
       "<div><iframe src=\"http://127.0.0.1:7860/\" width=\"100%\" height=\"500\" allow=\"autoplay; camera; microphone; clipboard-read; clipboard-write;\" frameborder=\"0\" allowfullscreen></iframe></div>"
      ],
      "text/plain": [
       "<IPython.core.display.HTML object>"
      ]
     },
     "metadata": {},
     "output_type": "display_data"
    },
    {
     "data": {
      "text/plain": []
     },
     "execution_count": 3,
     "metadata": {},
     "output_type": "execute_result"
    },
    {
     "name": "stderr",
     "output_type": "stream",
     "text": [
      "2024-10-19 22:02:08,762 - httpx - INFO - HTTP Request: GET https://checkip.amazonaws.com/ \"HTTP/1.1 200 \"\n",
      "2024-10-19 22:02:08,821 - httpx - INFO - HTTP Request: GET https://checkip.amazonaws.com/ \"HTTP/1.1 200 \"\n",
      "2024-10-19 22:02:09,184 - httpx - INFO - HTTP Request: GET https://api.gradio.app/pkg-version \"HTTP/1.1 200 OK\"\n",
      "/Users/z5173707/root/projects/FHS/venv/python3.12.6/lib/python3.12/site-packages/gradio/analytics.py:106: UserWarning: IMPORTANT: You are using gradio version 4.44.0, however version 4.44.1 is available, please upgrade. \n",
      "--------\n",
      "  warnings.warn(\n",
      "2024-10-19 22:03:27,756 - speechgrid - INFO - Loading ASR Model...\n",
      "2024-10-19 22:03:28,393 - speechgrid - INFO - Loading SD Model...\n",
      "2024-10-19 22:03:28,606 - speechgrid - INFO - Loading VAD Model...\n",
      "2024-10-19 22:03:28,624 - __main__ - INFO - Loading Speech File...\n",
      "--- Logging error ---\n",
      "Traceback (most recent call last):\n",
      "  File \"/Library/Frameworks/Python.framework/Versions/3.12/lib/python3.12/logging/handlers.py\", line 73, in emit\n",
      "    if self.shouldRollover(record):\n",
      "       ^^^^^^^^^^^^^^^^^^^^^^^^^^^\n",
      "  File \"/Library/Frameworks/Python.framework/Versions/3.12/lib/python3.12/logging/handlers.py\", line 197, in shouldRollover\n",
      "    msg = \"%s\\n\" % self.format(record)\n",
      "                   ^^^^^^^^^^^^^^^^^^^\n",
      "  File \"/Library/Frameworks/Python.framework/Versions/3.12/lib/python3.12/logging/__init__.py\", line 999, in format\n",
      "    return fmt.format(record)\n",
      "           ^^^^^^^^^^^^^^^^^^\n",
      "  File \"/Library/Frameworks/Python.framework/Versions/3.12/lib/python3.12/logging/__init__.py\", line 703, in format\n",
      "    record.message = record.getMessage()\n",
      "                     ^^^^^^^^^^^^^^^^^^^\n",
      "  File \"/Library/Frameworks/Python.framework/Versions/3.12/lib/python3.12/logging/__init__.py\", line 392, in getMessage\n",
      "    msg = msg % self.args\n",
      "          ~~~~^~~~~~~~~~~\n",
      "TypeError: not all arguments converted during string formatting\n",
      "Call stack:\n",
      "  File \"/Library/Frameworks/Python.framework/Versions/3.12/lib/python3.12/threading.py\", line 1032, in _bootstrap\n",
      "    self._bootstrap_inner()\n",
      "  File \"/Library/Frameworks/Python.framework/Versions/3.12/lib/python3.12/threading.py\", line 1075, in _bootstrap_inner\n",
      "    self.run()\n",
      "  File \"/Users/z5173707/root/projects/FHS/venv/python3.12.6/lib/python3.12/site-packages/anyio/_backends/_asyncio.py\", line 914, in run\n",
      "    result = context.run(func, *args)\n",
      "  File \"/Users/z5173707/root/projects/FHS/venv/python3.12.6/lib/python3.12/site-packages/gradio/utils.py\", line 826, in wrapper\n",
      "    response = f(*args, **kwargs)\n",
      "  File \"/var/folders/jt/gv0905117tv57783psrrf40h0000gq/T/ipykernel_57220/3002073539.py\", line 41, in process\n",
      "    speech_file, output_zip_file, wav_file_created, out_file_created = self.process_file(path, progress = progress)\n",
      "  File \"/var/folders/jt/gv0905117tv57783psrrf40h0000gq/T/ipykernel_57220/3002073539.py\", line 135, in process_file\n",
      "    logger.info(f'Start processing, following tasks will be performed on {basename}', ','.join(task_pipeline))\n",
      "Message: 'Start processing, following tasks will be performed on file_8898_20241019_220328'\n",
      "Arguments: ('VAD,SD,ASR',)\n",
      "--- Logging error ---\n",
      "Traceback (most recent call last):\n",
      "  File \"/Library/Frameworks/Python.framework/Versions/3.12/lib/python3.12/logging/__init__.py\", line 1160, in emit\n",
      "    msg = self.format(record)\n",
      "          ^^^^^^^^^^^^^^^^^^^\n",
      "  File \"/Library/Frameworks/Python.framework/Versions/3.12/lib/python3.12/logging/__init__.py\", line 999, in format\n",
      "    return fmt.format(record)\n",
      "           ^^^^^^^^^^^^^^^^^^\n",
      "  File \"/Library/Frameworks/Python.framework/Versions/3.12/lib/python3.12/logging/__init__.py\", line 703, in format\n",
      "    record.message = record.getMessage()\n",
      "                     ^^^^^^^^^^^^^^^^^^^\n",
      "  File \"/Library/Frameworks/Python.framework/Versions/3.12/lib/python3.12/logging/__init__.py\", line 392, in getMessage\n",
      "    msg = msg % self.args\n",
      "          ~~~~^~~~~~~~~~~\n",
      "TypeError: not all arguments converted during string formatting\n",
      "Call stack:\n",
      "  File \"/Library/Frameworks/Python.framework/Versions/3.12/lib/python3.12/threading.py\", line 1032, in _bootstrap\n",
      "    self._bootstrap_inner()\n",
      "  File \"/Library/Frameworks/Python.framework/Versions/3.12/lib/python3.12/threading.py\", line 1075, in _bootstrap_inner\n",
      "    self.run()\n",
      "  File \"/Users/z5173707/root/projects/FHS/venv/python3.12.6/lib/python3.12/site-packages/anyio/_backends/_asyncio.py\", line 914, in run\n",
      "    result = context.run(func, *args)\n",
      "  File \"/Users/z5173707/root/projects/FHS/venv/python3.12.6/lib/python3.12/site-packages/gradio/utils.py\", line 826, in wrapper\n",
      "    response = f(*args, **kwargs)\n",
      "  File \"/var/folders/jt/gv0905117tv57783psrrf40h0000gq/T/ipykernel_57220/3002073539.py\", line 41, in process\n",
      "    speech_file, output_zip_file, wav_file_created, out_file_created = self.process_file(path, progress = progress)\n",
      "  File \"/var/folders/jt/gv0905117tv57783psrrf40h0000gq/T/ipykernel_57220/3002073539.py\", line 135, in process_file\n",
      "    logger.info(f'Start processing, following tasks will be performed on {basename}', ','.join(task_pipeline))\n",
      "Message: 'Start processing, following tasks will be performed on file_8898_20241019_220328'\n",
      "Arguments: ('VAD,SD,ASR',)\n",
      "2024-10-19 22:03:31,656 - __main__ - INFO - Applying VAD...\n",
      "2024-10-19 22:03:32,065 - __main__ - INFO - Applying SD...\n",
      "/Users/z5173707/root/projects/FHS/venv/python3.12.6/lib/python3.12/site-packages/pyannote/audio/models/blocks/pooling.py:104: UserWarning: std(): degrees of freedom is <= 0. Correction should be strictly less than the reduction factor (input numel divided by output numel). (Triggered internally at /Users/runner/work/pytorch/pytorch/pytorch/aten/src/ATen/native/ReduceOps.cpp:1808.)\n",
      "  std = sequences.std(dim=-1, correction=1)\n",
      "2024-10-19 22:03:37,490 - __main__ - INFO - Applying ASR...\n",
      "2024-10-19 22:03:48,523 - __main__ - INFO - Saving output files in /Users/z5173707/root/projects/speechgrid/output, file_8898_20241019_220328\n",
      "2024-10-19 22:03:48,526 - __main__ - INFO - Processing file_8898_20241019_220328 is completed\n"
     ]
    }
   ],
   "source": [
    "shareable = False\n",
    "from core.utils import generate_file_basename, load_speech_file, zip_files\n",
    "import soundfile as sf\n",
    "#TODO: Progress bar\n",
    "#TODO: VAD ########DONE\n",
    "#TODO: Number of speakers\n",
    "#TODO: Word alignment\n",
    "#TODO: Download button  ######DONE\n",
    "#TODO: Wrape in a docker #####DONE\n",
    "#TODO: Test pyannote offline  ########DONE\n",
    "#TODO: Logging of errors and info    #########IN PROGRESS\n",
    "#TODO: ASR with LM  ########DONE\n",
    "#TODO: Process batch\n",
    "#TODO: Kaldi ASR\n",
    "#TODO: MMS ASR\n",
    "#TODO: Add parameters selection for ASR, SD, VAD\n",
    "#TODO: Rewrite the textgrid\n",
    "#TODO: TextGrid code to get the logger and use logging instead of print.\n",
    "#TODO: Add logging to other packages\n",
    "#TODO: Use .bin instead of ARPA in LM\n",
    "#TODO: ASR add the expected words\n",
    "#TODO: Consider control the offset in interval ASR\n",
    "#TODO: Add parameters of min silence duration #NEED TO WELL UNDERSTAND THESE PARAMETERS\n",
    "#TODO: Create set, get for speaker number\n",
    "#TODO: Name of file as the uploaded file\n",
    "#TODO: Make process enable after loading or recording\n",
    "\n",
    "def reset_min_max(exact,min_v,max_v):\n",
    "    if exact > 0:\n",
    "        min_v = 0\n",
    "        max_v = 0\n",
    "    speech_grid_interface.set_speaker_numbers(exact, min_v, max_v)\n",
    "    return exact, min_v, max_v\n",
    "\n",
    "def validate_min_max(exact, min_v, max_v):\n",
    "    if min_v > 0 or max_v > 0:\n",
    "        exact = 0\n",
    "        if min_v > max_v:\n",
    "            max_v = min_v\n",
    "    speech_grid_interface.set_speaker_numbers(exact, min_v, max_v)\n",
    "    return exact, min_v, max_v\n",
    "\n",
    "\n",
    "with gr.Blocks(title=\"SpeechGrid\", theme=gr.themes.Soft()) as gui:\n",
    "\n",
    "    with gr.Tab('Main'):\n",
    "\n",
    "        record_audio = gr.Audio(sources=[\"microphone\",\"upload\"], type=\"filepath\")\n",
    "    \n",
    "        tasks = gr.CheckboxGroup(choices=[(\"Speech to Text\",\"ASR\"),\n",
    "                                          (\"Speaker Separation\",\"SD\"),\n",
    "                                          (\"Speech Detection\",\"VAD\")],\n",
    "                                 value=speech_grid_interface.get_tasks(),\n",
    "                                 label=\"Tasks\",\n",
    "                                 info=\"Apply the following tasks:\")\n",
    "        tasks.input(speech_grid_interface.set_tasks, inputs=tasks)\n",
    "            \n",
    "    \n",
    "        process = gr.Button(\"Process Audio\")\n",
    "    \n",
    "        output_text = gr.Textbox(label='Progress', interactive=False)\n",
    "        with gr.Row():\n",
    "            with gr.Column():\n",
    "                d1 = gr.DownloadButton(\"Download output\", visible=False)\n",
    "            with gr.Column():\n",
    "                d2 = gr.DownloadButton(\"Download speech file\", visible=False)\n",
    "    \n",
    "        \n",
    "        \n",
    "    with gr.Tab('Advanced Options'):\n",
    "        gr.Markdown(\n",
    "            \"\"\"\n",
    "            ### Speaker Separation\n",
    "            Number of speakers\n",
    "            \"\"\")\n",
    "        with gr.Row():\n",
    "            n_exact = gr.Number(label='Exact')\n",
    "            n_min = gr.Number(label='Minimum')\n",
    "            n_max = gr.Number(label='Maximum')\n",
    "\n",
    "            n_exact.input(reset_min_max,\n",
    "                           inputs=[n_exact, n_min, n_max],\n",
    "                          outputs=[n_exact, n_min, n_max])\n",
    "            n_min.input(validate_min_max,\n",
    "                        inputs=[n_exact, n_min, n_max],\n",
    "                        outputs=[n_exact, n_min, n_max])\n",
    "            n_max.input(validate_min_max,\n",
    "                        inputs=[n_exact, n_min, n_max],\n",
    "                        outputs=[n_exact, n_min, n_max])\n",
    "        gr.Markdown(\n",
    "            \"\"\"\n",
    "            ### Speech to Text\n",
    "            \"\"\"\n",
    "        )\n",
    "        with gr.Row():\n",
    "            avail_lang = [(k,v) for k,v in speech_grid_interface.get_asr_available_lang().items()]\n",
    "            lang_drop = gr.Dropdown(label='Language', choices=avail_lang, value=speech_grid_interface.get_asr_lang())\n",
    "            lang_drop.change(speech_grid_interface.set_asr_lang,\n",
    "                            inputs=lang_drop)\n",
    "\n",
    "            is_lm_enabled = speech_grid_interface.get_lm_enable()\n",
    "            lm_enable = gr.Checkbox(label='Enable Language Model', value=is_lm_enabled, interactive=True)\n",
    "            lm_enable.change(speech_grid_interface.set_lm_enable,\n",
    "                            inputs=lm_enable)\n",
    "    \n",
    "    process.click(speech_grid_interface.process, \n",
    "                      inputs=record_audio,\n",
    "                      outputs=[output_text, d1, d2])\n",
    "     \n",
    "gui.launch(share=shareable)"
   ]
  },
  {
   "cell_type": "code",
   "execution_count": 6,
   "id": "56974ad9-905c-49cd-88bc-5eba96766e8e",
   "metadata": {},
   "outputs": [
    {
     "data": {
      "text/plain": [
       "{'speechgrid': {'speech_label': 'speech',\n",
       "  'tasks': ['ASR', 'SD', 'VAD'],\n",
       "  'max_dur': 120,\n",
       "  'speech_recognition': {'avail_lang': {'English': 'eng'},\n",
       "   'lang': 'eng',\n",
       "   'lang_model': True,\n",
       "   'asr_model_path': 'Models/ASR/mms-1b-all',\n",
       "   'lm_model_path': 'Models/ASR/LM/ngram/4gram_big.arpa'},\n",
       "  'speaker_diarization': {'model_path': 'Models/SD/pyannote3.1/speaker-diarization-3.1',\n",
       "   'num_speakers': 2,\n",
       "   'min_num_speakers': 0,\n",
       "   'max_num_speakers': 0},\n",
       "  'voice_activity_detection': {'model_path': 'Models/VAD/pytorch_model.bin',\n",
       "   'min_duration_off': 0.09791355693027545,\n",
       "   'min_duration_on': 0.05537587440407595}}}"
      ]
     },
     "execution_count": 6,
     "metadata": {},
     "output_type": "execute_result"
    }
   ],
   "source": [
    "speech_grid_interface.speech_grid.config"
   ]
  },
  {
   "cell_type": "code",
   "execution_count": 9,
   "id": "68449419-2953-40f1-b84d-3b0b7e78d875",
   "metadata": {},
   "outputs": [
    {
     "data": {
      "text/plain": [
       "True"
      ]
     },
     "execution_count": 9,
     "metadata": {},
     "output_type": "execute_result"
    }
   ],
   "source": [
    "speech_grid.get_lm_enable()"
   ]
  },
  {
   "cell_type": "code",
   "execution_count": 2,
   "id": "2d740903-bae1-406e-807f-a413d1623656",
   "metadata": {},
   "outputs": [],
   "source": [
    "def load_asr(params=None):\n",
    "    #TODO add to the asr class to read parameters and load the correct model? or a separate function\n",
    "\n",
    "    try:\n",
    "        asr_engine = wav2vec_asr.speech_recognition(ASR_MODEL, device= device, lm_model_path=LM_PATH) #This from parameters and has default one #If language not determine use language id\n",
    "    except:\n",
    "        print(f'Error loading asr model {ASR_MODEL}')\n",
    "        raise \"Error in loading asr model\"\n",
    "    \n",
    "    return asr_engine\n",
    "\n",
    "\n",
    "\n",
    "def load_sd(params=None):\n",
    "    \n",
    "    try:\n",
    "        diarizer = pyannote_sd.speaker_diar(device=device)\n",
    "    except Exception as e:\n",
    "        print(f'Error loading speaker diarization model')\n",
    "        raise f\"Error in loading speaker diarization model {e}\"\n",
    "    \n",
    "    return diarizer\n",
    "\n",
    "\n",
    "\n",
    "vad_params = {\n",
    "             'min_duration_off': 0.09791355693027545,\n",
    "             'min_duration_on': 0.05537587440407595\n",
    "             }\n",
    "\n",
    "def load_vad(params=None):\n",
    "    model_path = 'Models/VAD/pytorch_model.bin'\n",
    "    try:\n",
    "        vad_pipeline = pyannote_vad.speech_detection(model_path, params)\n",
    "    except:\n",
    "        print(f'Error loading voice activity detection model {model_path}')\n",
    "        raise \"Error in loading voice activity detection model\"   \n",
    "    return vad_pipeline"
   ]
  },
  {
   "cell_type": "code",
   "execution_count": 3,
   "id": "e209d23b-a26b-4d69-9404-ff4096db0cd5",
   "metadata": {},
   "outputs": [],
   "source": [
    "def process_file(speech_file, tasks=['SD', 'ASR'], parameters=None, progress=gr.Progress()):\n",
    "    basename = generate_file_basename()\n",
    "    \n",
    "    speech, sr, duration = load_speech_file(speech_file)\n",
    "    \n",
    "    #This save a version of the speech file with 16k, mono, 16bit\n",
    "    speech_file = join(output_dir,f'{basename}.wav')\n",
    "    sf.write(speech_file, speech, sr)\n",
    "    \n",
    "    tasks = set(tasks)\n",
    "    \n",
    "    task_pipeline = []\n",
    "    if len(tasks) == 1:\n",
    "        if 'ASR' in tasks and duration > MAX_DUR: #Add VAD task to split the speech file by sil\n",
    "            task_pipeline = ['VAD', 'ASR']\n",
    "        else:\n",
    "            task_pipeline = list(tasks)\n",
    "    elif set(tasks) == set(['SD', 'ASR']):\n",
    "        task_pipeline = ['SD', 'ASR']\n",
    "    elif set(tasks) == set(['VAD', 'ASR']):\n",
    "        task_pipeline = ['VAD', 'ASR']\n",
    "    elif set(tasks) == set(['VAD', 'ASR', 'SD']): #If both SD, VAD and ASR then ASR will be applied on SD output\n",
    "        task_pipeline = ['VAD', 'SD', 'ASR']\n",
    "    else:\n",
    "        task_pipeline = tasks #Only 'SD' and 'VAD' each one will be applied separetly\n",
    "\n",
    "    #print(speech_file, tasks, duration)\n",
    "    if 'ASR' in task_pipeline:\n",
    "        asr_engine = load_asr()\n",
    "    \n",
    "    if 'SD' in task_pipeline:\n",
    "        diarizer = load_sd()\n",
    "        \n",
    "    if 'VAD' in task_pipeline:\n",
    "        vad_engine = load_vad(params=vad_params)\n",
    "    \n",
    "    out_textgrid = []\n",
    "    \n",
    "    i = 0\n",
    "    for task in task_pipeline:\n",
    "        progress(i/(len(task_pipeline)+1), desc=f\"Applying {task}\")\n",
    "        i = i+1\n",
    "        if task == 'ASR':\n",
    "            texgrid_file = join(output_dir,f'{basename}_ASR.TextGrid')\n",
    "            if not out_textgrid:\n",
    "                dTiers_asr = asr_engine.process_speech(speech)\n",
    "            else:\n",
    "                input_textgrid = out_textgrid[-1]\n",
    "                dTiers_asr = asr_engine.process_intervals(speech, input_textgrid, sr = sr, offset_sec=0, speech_label = SPEECH_LABEL)\n",
    "            \n",
    "            tm.WriteTxtGrdFromDict(texgrid_file,dTiers_asr,0,duration)\n",
    "            out_textgrid.append(texgrid_file)\n",
    "        \n",
    "        elif task == 'VAD':\n",
    "            rttm_file = join(output_dir,f'{basename}_VAD.rttm')\n",
    "            texgrid_file = join(output_dir,f'{basename}_VAD.TextGrid')\n",
    "            vad_engine.DoVAD(speech,sr)\n",
    "            vad_engine.write_rttm(rttm_file)\n",
    "            vad_engine.write_textgrid(texgrid_file, speech_label=SPEECH_LABEL)\n",
    "            out_textgrid.append(texgrid_file)\n",
    "        \n",
    "        elif task == 'SD':\n",
    "            rttm_file = join(output_dir,f'{basename}_SD.rttm')\n",
    "            texgrid_file = join(output_dir,f'{basename}_SD.TextGrid')\n",
    "            diarizer.diarize(speech=speech, sr=sr)\n",
    "            diarizer.write_rttm(rttm_file)\n",
    "            diarizer.write_textgrid(texgrid_file, speech_label=SPEECH_LABEL)\n",
    "            out_textgrid.append(texgrid_file)\n",
    "    \n",
    "    \n",
    "    output_zip_file = join(output_dir,f'{basename}_output.zip')\n",
    "    \n",
    "    progress(len(task_pipeline)/(len(task_pipeline)+1), desc=f\"Create output archive\")\n",
    "    p = zip_files(out_textgrid, output_zip_file)\n",
    "    \n",
    "    progress(1, desc=p)\n",
    "    \n",
    "    return [p, gr.DownloadButton(label=f\"Download output file\", value=output_zip_file, visible=True), \n",
    "           gr.DownloadButton(label=f\"Download speech file\", value=speech_file, visible=True)]"
   ]
  },
  {
   "cell_type": "code",
   "execution_count": 4,
   "id": "e79f9b4b-b383-4360-b53a-59ad148fc80a",
   "metadata": {},
   "outputs": [
    {
     "name": "stdout",
     "output_type": "stream",
     "text": [
      "Running on local URL:  http://127.0.0.1:7864\n",
      "\n",
      "To create a public link, set `share=True` in `launch()`.\n"
     ]
    },
    {
     "data": {
      "text/html": [
       "<div><iframe src=\"http://127.0.0.1:7864/\" width=\"100%\" height=\"500\" allow=\"autoplay; camera; microphone; clipboard-read; clipboard-write;\" frameborder=\"0\" allowfullscreen></iframe></div>"
      ],
      "text/plain": [
       "<IPython.core.display.HTML object>"
      ]
     },
     "metadata": {},
     "output_type": "display_data"
    },
    {
     "data": {
      "text/plain": []
     },
     "execution_count": 4,
     "metadata": {},
     "output_type": "execute_result"
    },
    {
     "name": "stderr",
     "output_type": "stream",
     "text": [
      "/Users/z5173707/root/projects/FHS/venv/python3.12.6/lib/python3.12/site-packages/transformers/tokenization_utils_base.py:1601: FutureWarning: `clean_up_tokenization_spaces` was not set. It will be set to `True` by default. This behavior will be depracted in transformers v4.45, and will be then set to `False` by default. For more details check this issue: https://github.com/huggingface/transformers/issues/31884\n",
      "  warnings.warn(\n",
      "Some weights of the model checkpoint at /Users/z5173707/root/projects/FHS/alKhalilVox/Models/ASR/wav2vec2-large-xlsr-53-english/ were not used when initializing Wav2Vec2ForCTC: ['wav2vec2.encoder.pos_conv_embed.conv.weight_g', 'wav2vec2.encoder.pos_conv_embed.conv.weight_v']\n",
      "- This IS expected if you are initializing Wav2Vec2ForCTC from the checkpoint of a model trained on another task or with another architecture (e.g. initializing a BertForSequenceClassification model from a BertForPreTraining model).\n",
      "- This IS NOT expected if you are initializing Wav2Vec2ForCTC from the checkpoint of a model that you expect to be exactly identical (initializing a BertForSequenceClassification model from a BertForSequenceClassification model).\n",
      "Some weights of Wav2Vec2ForCTC were not initialized from the model checkpoint at /Users/z5173707/root/projects/FHS/alKhalilVox/Models/ASR/wav2vec2-large-xlsr-53-english/ and are newly initialized: ['wav2vec2.encoder.pos_conv_embed.conv.parametrizations.weight.original0', 'wav2vec2.encoder.pos_conv_embed.conv.parametrizations.weight.original1']\n",
      "You should probably TRAIN this model on a down-stream task to be able to use it for predictions and inference.\n",
      "Loading the LM will be faster if you build a binary file.\n",
      "Reading /Users/z5173707/root/projects/FHS/alKhalilVox/Models/ASR/LM/ngram/4gram_big.arpa\n",
      "----5---10---15---20---25---30---35---40---45---50---55---60---65---70---75---80---85---90---95--100\n",
      "****************************************************************************************************\n",
      "Found entries of length > 1 in alphabet. This is unusual unless style is BPE, but the alphabet was not recognized as BPE type. Is this correct?\n",
      "Unigrams and labels don't seem to agree.\n"
     ]
    }
   ],
   "source": [
    "#TODO: Progress bar\n",
    "#TODO: VAD ########DONE\n",
    "#TODO: Number of speakers\n",
    "#TODO: Word alignment\n",
    "#TODO: Download button  ######DONE\n",
    "#TODO: Wrape in a docker #####DONE\n",
    "#TODO: Test pyannote offline  ########DONE\n",
    "#TODO: Logging of errors and info\n",
    "#TODO: ASR with LM  ########DONE\n",
    "#TODO: Process batch\n",
    "#TODO: Kaldi ASR\n",
    "#TODO: MMS ASR\n",
    "#TODO: Parameters for ASR (hotwords, LM/noLM)\n",
    "\n",
    "\n",
    "\n",
    "with gr.Blocks(theme=gr.themes.Soft()) as gui:\n",
    "\n",
    "    record_audio = gr.Audio(sources=[\"microphone\",\"upload\"], type=\"filepath\")\n",
    "\n",
    "    tasks = gr.CheckboxGroup(choices=[(\"Speech to Text\",\"ASR\"), (\"Speaker Separation\",\"SD\"),(\"Speech Detection\",\"VAD\")], label=\"Tasks\", info=\"Apply the following tasks:\")\n",
    "\n",
    "    process = gr.Button(\"Process Audio\")\n",
    "\n",
    "    output_text = gr.Textbox(label='Progress', interactive=False)\n",
    "    with gr.Row():\n",
    "        with gr.Column():\n",
    "            d1 = gr.DownloadButton(\"Download output\", visible=False)\n",
    "        with gr.Column():\n",
    "            d2 = gr.DownloadButton(\"Download speech file\", visible=False)\n",
    "\n",
    "    process.click(process_file, inputs=[record_audio, tasks], outputs=[output_text, d1, d2])\n",
    "    \n",
    "    \n",
    "     \n",
    "gui.launch()"
   ]
  },
  {
   "cell_type": "markdown",
   "id": "aa340a2f-2180-41ce-98f9-f71208923baf",
   "metadata": {},
   "source": [
    "# Draft"
   ]
  },
  {
   "cell_type": "code",
   "execution_count": 5,
   "id": "05f46b86-47e2-4d0d-8b17-5661f15ad035",
   "metadata": {},
   "outputs": [],
   "source": [
    "import torch"
   ]
  },
  {
   "cell_type": "code",
   "execution_count": 6,
   "id": "94ca648c-2cd1-4ebc-8e6e-b18c707b0f84",
   "metadata": {},
   "outputs": [
    {
     "data": {
      "text/plain": [
       "False"
      ]
     },
     "execution_count": 6,
     "metadata": {},
     "output_type": "execute_result"
    }
   ],
   "source": [
    "torch.cuda.is_available()"
   ]
  },
  {
   "cell_type": "code",
   "execution_count": 2,
   "id": "e64e8c37-7453-49a7-a469-32cb22cabb4c",
   "metadata": {},
   "outputs": [
    {
     "name": "stderr",
     "output_type": "stream",
     "text": [
      "/Users/z5173707/root/projects/FHS/venv/python3.12.6/lib/python3.12/site-packages/tqdm/auto.py:21: TqdmWarning: IProgress not found. Please update jupyter and ipywidgets. See https://ipywidgets.readthedocs.io/en/stable/user_install.html\n",
      "  from .autonotebook import tqdm as notebook_tqdm\n"
     ]
    }
   ],
   "source": [
    "from transformers import Wav2Vec2ForCTC, Wav2Vec2Processor, AutoProcessor"
   ]
  },
  {
   "cell_type": "code",
   "execution_count": 3,
   "id": "cf25c4c9-589a-4c4f-a721-b4ccf8d8fa83",
   "metadata": {},
   "outputs": [],
   "source": [
    "model = Wav2Vec2ForCTC.from_pretrained('Models/ASR/mms-1b-all/')\n",
    "processor = AutoProcessor.from_pretrained('Models/ASR/mms-1b-all/')"
   ]
  },
  {
   "cell_type": "code",
   "execution_count": 4,
   "id": "acfd3ca0-e3a6-49ca-9cad-8fad9aa5a27b",
   "metadata": {},
   "outputs": [],
   "source": [
    "model.load_adapter(target_lang='eng', local_files_only=True)\n",
    "processor.tokenizer.set_target_lang(\"eng\")"
   ]
  },
  {
   "cell_type": "code",
   "execution_count": 2,
   "id": "95b26577-8375-4997-aac1-1c2b0917a139",
   "metadata": {},
   "outputs": [],
   "source": [
    "model_id = \"facebook/mms-1b-all\""
   ]
  },
  {
   "cell_type": "code",
   "execution_count": 5,
   "id": "17cc9a34-d1aa-4440-b792-f04f4a5f40c7",
   "metadata": {},
   "outputs": [
    {
     "data": {
      "text/plain": [
       "Wav2Vec2ForCTC(\n",
       "  (wav2vec2): Wav2Vec2Model(\n",
       "    (feature_extractor): Wav2Vec2FeatureEncoder(\n",
       "      (conv_layers): ModuleList(\n",
       "        (0): Wav2Vec2LayerNormConvLayer(\n",
       "          (conv): Conv1d(1, 512, kernel_size=(10,), stride=(5,))\n",
       "          (layer_norm): LayerNorm((512,), eps=1e-05, elementwise_affine=True)\n",
       "          (activation): GELUActivation()\n",
       "        )\n",
       "        (1-4): 4 x Wav2Vec2LayerNormConvLayer(\n",
       "          (conv): Conv1d(512, 512, kernel_size=(3,), stride=(2,))\n",
       "          (layer_norm): LayerNorm((512,), eps=1e-05, elementwise_affine=True)\n",
       "          (activation): GELUActivation()\n",
       "        )\n",
       "        (5-6): 2 x Wav2Vec2LayerNormConvLayer(\n",
       "          (conv): Conv1d(512, 512, kernel_size=(2,), stride=(2,))\n",
       "          (layer_norm): LayerNorm((512,), eps=1e-05, elementwise_affine=True)\n",
       "          (activation): GELUActivation()\n",
       "        )\n",
       "      )\n",
       "    )\n",
       "    (feature_projection): Wav2Vec2FeatureProjection(\n",
       "      (layer_norm): LayerNorm((512,), eps=1e-05, elementwise_affine=True)\n",
       "      (projection): Linear(in_features=512, out_features=1280, bias=True)\n",
       "      (dropout): Dropout(p=0.05, inplace=False)\n",
       "    )\n",
       "    (encoder): Wav2Vec2EncoderStableLayerNorm(\n",
       "      (pos_conv_embed): Wav2Vec2PositionalConvEmbedding(\n",
       "        (conv): ParametrizedConv1d(\n",
       "          1280, 1280, kernel_size=(128,), stride=(1,), padding=(64,), groups=16\n",
       "          (parametrizations): ModuleDict(\n",
       "            (weight): ParametrizationList(\n",
       "              (0): _WeightNorm()\n",
       "            )\n",
       "          )\n",
       "        )\n",
       "        (padding): Wav2Vec2SamePadLayer()\n",
       "        (activation): GELUActivation()\n",
       "      )\n",
       "      (layer_norm): LayerNorm((1280,), eps=1e-05, elementwise_affine=True)\n",
       "      (dropout): Dropout(p=0.05, inplace=False)\n",
       "      (layers): ModuleList(\n",
       "        (0-47): 48 x Wav2Vec2EncoderLayerStableLayerNorm(\n",
       "          (attention): Wav2Vec2SdpaAttention(\n",
       "            (k_proj): Linear(in_features=1280, out_features=1280, bias=True)\n",
       "            (v_proj): Linear(in_features=1280, out_features=1280, bias=True)\n",
       "            (q_proj): Linear(in_features=1280, out_features=1280, bias=True)\n",
       "            (out_proj): Linear(in_features=1280, out_features=1280, bias=True)\n",
       "          )\n",
       "          (dropout): Dropout(p=0.05, inplace=False)\n",
       "          (layer_norm): LayerNorm((1280,), eps=1e-05, elementwise_affine=True)\n",
       "          (feed_forward): Wav2Vec2FeedForward(\n",
       "            (intermediate_dropout): Dropout(p=0.05, inplace=False)\n",
       "            (intermediate_dense): Linear(in_features=1280, out_features=5120, bias=True)\n",
       "            (intermediate_act_fn): GELUActivation()\n",
       "            (output_dense): Linear(in_features=5120, out_features=1280, bias=True)\n",
       "            (output_dropout): Dropout(p=0.05, inplace=False)\n",
       "          )\n",
       "          (final_layer_norm): LayerNorm((1280,), eps=1e-05, elementwise_affine=True)\n",
       "          (adapter_layer): Wav2Vec2AttnAdapterLayer(\n",
       "            (norm): LayerNorm((1280,), eps=1e-05, elementwise_affine=True)\n",
       "            (linear_1): Linear(in_features=1280, out_features=16, bias=True)\n",
       "            (act_fn): ReLU()\n",
       "            (linear_2): Linear(in_features=16, out_features=1280, bias=True)\n",
       "          )\n",
       "        )\n",
       "      )\n",
       "    )\n",
       "  )\n",
       "  (dropout): Dropout(p=0.05, inplace=False)\n",
       "  (lm_head): Linear(in_features=1280, out_features=154, bias=True)\n",
       ")"
      ]
     },
     "execution_count": 5,
     "metadata": {},
     "output_type": "execute_result"
    }
   ],
   "source": [
    "model"
   ]
  },
  {
   "cell_type": "code",
   "execution_count": 3,
   "id": "db64e313-0022-495b-bcb8-760342118ffb",
   "metadata": {},
   "outputs": [
    {
     "name": "stderr",
     "output_type": "stream",
     "text": [
      "Some weights of the model checkpoint at facebook/mms-1b-all were not used when initializing Wav2Vec2ForCTC: ['wav2vec2.encoder.pos_conv_embed.conv.weight_g', 'wav2vec2.encoder.pos_conv_embed.conv.weight_v']\n",
      "- This IS expected if you are initializing Wav2Vec2ForCTC from the checkpoint of a model trained on another task or with another architecture (e.g. initializing a BertForSequenceClassification model from a BertForPreTraining model).\n",
      "- This IS NOT expected if you are initializing Wav2Vec2ForCTC from the checkpoint of a model that you expect to be exactly identical (initializing a BertForSequenceClassification model from a BertForSequenceClassification model).\n",
      "Some weights of Wav2Vec2ForCTC were not initialized from the model checkpoint at facebook/mms-1b-all and are newly initialized: ['wav2vec2.encoder.pos_conv_embed.conv.parametrizations.weight.original0', 'wav2vec2.encoder.pos_conv_embed.conv.parametrizations.weight.original1']\n",
      "You should probably TRAIN this model on a down-stream task to be able to use it for predictions and inference.\n"
     ]
    }
   ],
   "source": [
    "model = Wav2Vec2ForCTC.from_pretrained(model_id)"
   ]
  },
  {
   "cell_type": "code",
   "execution_count": 27,
   "id": "a6579859-7634-4859-8bea-74d2e5f66656",
   "metadata": {},
   "outputs": [],
   "source": [
    "model.save_pretrained('temp_mms')"
   ]
  },
  {
   "cell_type": "code",
   "execution_count": 4,
   "id": "29b040cd-61b9-4915-bc0e-5a28a183f15a",
   "metadata": {},
   "outputs": [],
   "source": [
    "processor = AutoProcessor.from_pretrained(model_id)"
   ]
  },
  {
   "cell_type": "code",
   "execution_count": 29,
   "id": "7ff6df7d-60bf-494a-90b7-2fc6550d7067",
   "metadata": {},
   "outputs": [
    {
     "data": {
      "text/plain": [
       "[]"
      ]
     },
     "execution_count": 29,
     "metadata": {},
     "output_type": "execute_result"
    }
   ],
   "source": [
    "processor.save_pretrained('temp_mms/')"
   ]
  },
  {
   "cell_type": "code",
   "execution_count": 5,
   "id": "108c82be-08be-4ea2-9b30-02cf06c9d248",
   "metadata": {},
   "outputs": [],
   "source": [
    "processor.tokenizer.set_target_lang(\"eng\")"
   ]
  },
  {
   "cell_type": "code",
   "execution_count": 6,
   "id": "e93936c7-5f55-40c1-966e-35c2acbbedc8",
   "metadata": {},
   "outputs": [],
   "source": [
    "model.load_adapter(\"eng\")"
   ]
  },
  {
   "cell_type": "code",
   "execution_count": 15,
   "id": "4616fafb-fb59-412a-bcda-3812ceb11dba",
   "metadata": {},
   "outputs": [
    {
     "name": "stderr",
     "output_type": "stream",
     "text": [
      "Some weights of the model checkpoint at Models/ASR/wav2vec2-large-xlsr-53-english/ were not used when initializing Wav2Vec2ForCTC: ['wav2vec2.encoder.pos_conv_embed.conv.weight_g', 'wav2vec2.encoder.pos_conv_embed.conv.weight_v']\n",
      "- This IS expected if you are initializing Wav2Vec2ForCTC from the checkpoint of a model trained on another task or with another architecture (e.g. initializing a BertForSequenceClassification model from a BertForPreTraining model).\n",
      "- This IS NOT expected if you are initializing Wav2Vec2ForCTC from the checkpoint of a model that you expect to be exactly identical (initializing a BertForSequenceClassification model from a BertForSequenceClassification model).\n",
      "Some weights of Wav2Vec2ForCTC were not initialized from the model checkpoint at Models/ASR/wav2vec2-large-xlsr-53-english/ and are newly initialized: ['wav2vec2.encoder.pos_conv_embed.conv.parametrizations.weight.original0', 'wav2vec2.encoder.pos_conv_embed.conv.parametrizations.weight.original1']\n",
      "You should probably TRAIN this model on a down-stream task to be able to use it for predictions and inference.\n"
     ]
    }
   ],
   "source": [
    "model = Wav2Vec2ForCTC.from_pretrained('Models/ASR/wav2vec2-large-xlsr-53-english/')"
   ]
  },
  {
   "cell_type": "code",
   "execution_count": 16,
   "id": "e0087de8-b126-4ff8-9a15-7cd3749c3105",
   "metadata": {},
   "outputs": [
    {
     "name": "stderr",
     "output_type": "stream",
     "text": [
      "/Users/z5173707/root/projects/FHS/venv/python3.12.6/lib/python3.12/site-packages/transformers/tokenization_utils_base.py:1601: FutureWarning: `clean_up_tokenization_spaces` was not set. It will be set to `True` by default. This behavior will be depracted in transformers v4.45, and will be then set to `False` by default. For more details check this issue: https://github.com/huggingface/transformers/issues/31884\n",
      "  warnings.warn(\n"
     ]
    }
   ],
   "source": [
    "processor = Wav2Vec2Processor.from_pretrained('Models/ASR/wav2vec2-large-xlsr-53-english/')"
   ]
  },
  {
   "cell_type": "code",
   "execution_count": 6,
   "id": "f9e5b89f-5d1b-4263-8424-9380fdac30e5",
   "metadata": {},
   "outputs": [],
   "source": [
    "from core.utils import load_speech_file\n",
    "speech, sr, duration = load_speech_file('output/file_7928_20241008_101915.wav')"
   ]
  },
  {
   "cell_type": "code",
   "execution_count": 7,
   "id": "a057d9d1-50d2-4f2a-b5e1-d1b2261f8db3",
   "metadata": {},
   "outputs": [
    {
     "data": {
      "text/plain": [
       "5.4"
      ]
     },
     "execution_count": 7,
     "metadata": {},
     "output_type": "execute_result"
    }
   ],
   "source": [
    "duration"
   ]
  },
  {
   "cell_type": "code",
   "execution_count": 17,
   "id": "47633af0-b2a8-4f37-9a46-767b0627d7e0",
   "metadata": {},
   "outputs": [],
   "source": [
    "inputs = processor(speech, sampling_rate=16_000, return_tensors=\"pt\")"
   ]
  },
  {
   "cell_type": "code",
   "execution_count": 18,
   "id": "8e411cf6-8cb9-4ebe-a7b6-f1ebe757c6f7",
   "metadata": {},
   "outputs": [],
   "source": [
    "import torch\n",
    "with torch.no_grad():\n",
    "    outputs = model(**inputs).logits"
   ]
  },
  {
   "cell_type": "code",
   "execution_count": 19,
   "id": "0d3d2a9d-290a-4994-a5a6-622c2c91a74e",
   "metadata": {},
   "outputs": [],
   "source": [
    "ids = torch.argmax(outputs, dim=-1)[0]\n",
    "transcription = processor.decode(ids)"
   ]
  },
  {
   "cell_type": "code",
   "execution_count": 20,
   "id": "46764fef-323f-4fe0-8876-0a0745e4fd71",
   "metadata": {},
   "outputs": [
    {
     "data": {
      "text/plain": [
       "tensor([ 0,  0,  0,  0,  0,  0,  0,  0,  0,  0,  0,  0,  0,  0,  0,  0,  0,  0,\n",
       "         0,  0,  0,  0,  0,  0,  0,  0,  0,  0,  0,  0,  0, 14,  0, 11, 18,  0,\n",
       "         0,  0, 18,  0,  0,  0, 21,  0,  0,  0,  4,  4,  4,  0,  0,  0,  0,  0,\n",
       "         0,  0,  0,  0,  0,  0,  0,  0, 21,  0, 20, 20, 11, 11,  0,  4,  0, 26,\n",
       "         0,  0,  0,  0, 21,  0,  0,  0,  0,  4,  4,  0,  0,  0,  0,  0,  0,  0,\n",
       "         0,  0,  0,  0,  0,  0,  0, 26,  0, 14,  0, 24,  0, 11,  0,  0, 11,  0,\n",
       "         0,  6, 12,  0,  0,  0,  0,  0,  0, 21,  0, 24,  0,  0,  0,  0,  4,  0,\n",
       "         0,  0,  0, 12,  0,  0,  0,  0,  0,  0,  0, 15,  0,  0, 28,  0, 11,  0,\n",
       "         4,  4,  4,  0,  0,  0,  0,  0,  0,  0,  0,  0,  0,  0,  0,  0,  0,  0,\n",
       "        29,  0,  0,  0,  0, 21, 20, 20,  0,  0, 10,  0,  0,  0,  0,  0, 21,  0,\n",
       "         0,  0,  4,  0,  0,  0,  0,  0,  0,  0,  0,  0,  0,  0,  0,  0,  0, 11,\n",
       "         0,  0,  0, 28,  0,  0,  0,  0,  7,  0,  0,  0, 18,  0,  0,  0,  0,  0,\n",
       "         0,  4,  0,  0,  0, 18,  0,  0,  0,  0,  0,  0,  0,  0, 15,  0,  0,  0,\n",
       "        28, 11,  0,  0,  0,  0,  0,  0,  0,  0,  0,  0,  0,  0,  0,  0,  0,  0,\n",
       "         0,  0,  0,  0,  0,  0,  0,  0,  0,  0,  0,  0,  0,  0,  0,  0,  4])"
      ]
     },
     "execution_count": 20,
     "metadata": {},
     "output_type": "execute_result"
    }
   ],
   "source": [
    "ids"
   ]
  },
  {
   "cell_type": "code",
   "execution_count": 21,
   "id": "e8d1aa54-b2ba-45bb-addd-c66b8a2ee95c",
   "metadata": {},
   "outputs": [
    {
     "data": {
      "text/plain": [
       "'hello one to three-for five wondo eval live'"
      ]
     },
     "execution_count": 21,
     "metadata": {},
     "output_type": "execute_result"
    }
   ],
   "source": [
    "transcription"
   ]
  },
  {
   "cell_type": "code",
   "execution_count": 13,
   "id": "1dc6a22d-8703-4f42-b93c-0273caa07ed6",
   "metadata": {},
   "outputs": [],
   "source": [
    "from IPython.display import Audio"
   ]
  },
  {
   "cell_type": "code",
   "execution_count": 14,
   "id": "1fb3df27-4ad7-489d-8a94-9b988e0ea6d9",
   "metadata": {},
   "outputs": [
    {
     "data": {
      "text/html": [
       "\n",
       "                <audio  controls=\"controls\" >\n",
       "                    <source src=\"data:audio/wav;base64,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\" type=\"audio/wav\" />\n",
       "                    Your browser does not support the audio element.\n",
       "                </audio>\n",
       "              "
      ],
      "text/plain": [
       "<IPython.lib.display.Audio object>"
      ]
     },
     "execution_count": 14,
     "metadata": {},
     "output_type": "execute_result"
    }
   ],
   "source": [
    "Audio(data=speech, rate=16000)"
   ]
  },
  {
   "cell_type": "code",
   "execution_count": 107,
   "id": "85fbdfd6-c8b6-4640-8524-ade4e8799a35",
   "metadata": {},
   "outputs": [
    {
     "name": "stdout",
     "output_type": "stream",
     "text": [
      "Requirement already satisfied: pyctcdecode==0.5.0 in /Users/z5173707/root/projects/FHS/venv/python3.12.6/lib/python3.12/site-packages (0.5.0)\n",
      "Requirement already satisfied: numpy<2.0.0,>=1.15.0 in /Users/z5173707/root/projects/FHS/venv/python3.12.6/lib/python3.12/site-packages (from pyctcdecode==0.5.0) (1.26.4)\n",
      "Requirement already satisfied: pygtrie<3.0,>=2.1 in /Users/z5173707/root/projects/FHS/venv/python3.12.6/lib/python3.12/site-packages (from pyctcdecode==0.5.0) (2.5.0)\n",
      "Requirement already satisfied: hypothesis<7,>=6.14 in /Users/z5173707/root/projects/FHS/venv/python3.12.6/lib/python3.12/site-packages (from pyctcdecode==0.5.0) (6.112.2)\n",
      "Requirement already satisfied: attrs>=22.2.0 in /Users/z5173707/root/projects/FHS/venv/python3.12.6/lib/python3.12/site-packages (from hypothesis<7,>=6.14->pyctcdecode==0.5.0) (24.2.0)\n",
      "Requirement already satisfied: sortedcontainers<3.0.0,>=2.1.0 in /Users/z5173707/root/projects/FHS/venv/python3.12.6/lib/python3.12/site-packages (from hypothesis<7,>=6.14->pyctcdecode==0.5.0) (2.4.0)\n"
     ]
    }
   ],
   "source": [
    "!pip install pyctcdecode==0.5.0"
   ]
  },
  {
   "cell_type": "code",
   "execution_count": 105,
   "id": "30eaac5b-01a9-4182-a450-210e26a73271",
   "metadata": {},
   "outputs": [],
   "source": [
    "from pyctcdecode import build_ctcdecoder\n",
    "import pyctcdecode"
   ]
  },
  {
   "cell_type": "code",
   "execution_count": 106,
   "id": "4e4e9c64-6f1e-44fe-8a2a-2719121eec12",
   "metadata": {},
   "outputs": [
    {
     "data": {
      "text/plain": [
       "<module 'pyctcdecode' from '/Users/z5173707/root/projects/FHS/venv/python3.12.6/lib/python3.12/site-packages/pyctcdecode/__init__.py'>"
      ]
     },
     "execution_count": 106,
     "metadata": {},
     "output_type": "execute_result"
    }
   ],
   "source": [
    "pyctcdecode"
   ]
  },
  {
   "cell_type": "code",
   "execution_count": 18,
   "id": "8f3ad489-4f17-402c-98ca-76b0c0093043",
   "metadata": {},
   "outputs": [],
   "source": [
    "lm_path = 'Models/ASR/LM/ngram/4gram_small.arpa.gz'\n",
    "lm_path_unzip = 'Models/ASR/LM/ngram/4gram_small.arpa'"
   ]
  },
  {
   "cell_type": "code",
   "execution_count": 26,
   "id": "fb48b5e4-0686-42db-aa60-d11e197c74c8",
   "metadata": {},
   "outputs": [],
   "source": [
    "import gzip\n",
    "import os, shutil\n",
    "with gzip.open(lm_path, 'rb') as f_zipped:\n",
    "    with open(lm_path_unzip, 'wb') as f_unzipped:\n",
    "        shutil.copyfileobj(f_zipped, f_unzipped)"
   ]
  },
  {
   "cell_type": "code",
   "execution_count": 19,
   "id": "c3d703ce-28d6-4e73-b15a-c7d7bebbfa77",
   "metadata": {},
   "outputs": [],
   "source": [
    "vocab_dict = processor.tokenizer.get_vocab()\n",
    "sorted_vocab_dict = {k.lower(): v for k, v in sorted(vocab_dict.items(), key=lambda item: item[1])}"
   ]
  },
  {
   "cell_type": "code",
   "execution_count": 20,
   "id": "ad625132-d403-4a60-9755-75dc9ec662c5",
   "metadata": {},
   "outputs": [],
   "source": [
    "import kenlm"
   ]
  },
  {
   "cell_type": "code",
   "execution_count": 21,
   "id": "525eca5b-152d-465f-b890-aef50ebb1bd9",
   "metadata": {},
   "outputs": [
    {
     "name": "stderr",
     "output_type": "stream",
     "text": [
      "Loading the LM will be faster if you build a binary file.\n",
      "Reading /Users/z5173707/root/projects/FHS/alKhalilVox/Models/ASR/LM/ngram/4gram_small.arpa\n",
      "----5---10---15---20---25---30---35---40---45---50---55---60---65---70---75---80---85---90---95--100\n",
      "****************************************************************************************************\n",
      "Found entries of length > 1 in alphabet. This is unusual unless style is BPE, but the alphabet was not recognized as BPE type. Is this correct?\n"
     ]
    }
   ],
   "source": [
    "from pyctcdecode import build_ctcdecoder\n",
    "\n",
    "decoder = build_ctcdecoder(\n",
    "    labels=list(sorted_vocab_dict.keys()),\n",
    "    kenlm_model_path=lm_path_unzip,\n",
    ")\n"
   ]
  },
  {
   "cell_type": "code",
   "execution_count": 22,
   "id": "1bd5d55a-4167-4c9b-a775-d48bd9fc5fd1",
   "metadata": {},
   "outputs": [
    {
     "ename": "ValueError",
     "evalue": "Input logits have 3 dimensions, but need 2: (time, vocabulary)",
     "output_type": "error",
     "traceback": [
      "\u001b[0;31m---------------------------------------------------------------------------\u001b[0m",
      "\u001b[0;31mValueError\u001b[0m                                Traceback (most recent call last)",
      "Cell \u001b[0;32mIn[22], line 1\u001b[0m\n\u001b[0;32m----> 1\u001b[0m text \u001b[38;5;241m=\u001b[39m \u001b[43mdecoder\u001b[49m\u001b[38;5;241;43m.\u001b[39;49m\u001b[43mdecode\u001b[49m\u001b[43m(\u001b[49m\u001b[43moutputs\u001b[49m\u001b[43m)\u001b[49m\n",
      "File \u001b[0;32m~/root/projects/FHS/venv/python3.12.6/lib/python3.12/site-packages/pyctcdecode/decoder.py:716\u001b[0m, in \u001b[0;36mBeamSearchDecoderCTC.decode\u001b[0;34m(self, logits, beam_width, beam_prune_logp, token_min_logp, hotwords, hotword_weight, lm_start_state)\u001b[0m\n\u001b[1;32m    692\u001b[0m \u001b[38;5;28;01mdef\u001b[39;00m \u001b[38;5;21mdecode\u001b[39m(\n\u001b[1;32m    693\u001b[0m     \u001b[38;5;28mself\u001b[39m,\n\u001b[1;32m    694\u001b[0m     logits: NDArray[NpFloat],\n\u001b[0;32m   (...)\u001b[0m\n\u001b[1;32m    700\u001b[0m     lm_start_state: LMState \u001b[38;5;241m=\u001b[39m \u001b[38;5;28;01mNone\u001b[39;00m,\n\u001b[1;32m    701\u001b[0m ) \u001b[38;5;241m-\u001b[39m\u001b[38;5;241m>\u001b[39m \u001b[38;5;28mstr\u001b[39m:\n\u001b[1;32m    702\u001b[0m \u001b[38;5;250m    \u001b[39m\u001b[38;5;124;03m\"\"\"Convert input token logit matrix to decoded text.\u001b[39;00m\n\u001b[1;32m    703\u001b[0m \n\u001b[1;32m    704\u001b[0m \u001b[38;5;124;03m    Args:\u001b[39;00m\n\u001b[0;32m   (...)\u001b[0m\n\u001b[1;32m    714\u001b[0m \u001b[38;5;124;03m        The decoded text (str)\u001b[39;00m\n\u001b[1;32m    715\u001b[0m \u001b[38;5;124;03m    \"\"\"\u001b[39;00m\n\u001b[0;32m--> 716\u001b[0m     decoded_beams \u001b[38;5;241m=\u001b[39m \u001b[38;5;28;43mself\u001b[39;49m\u001b[38;5;241;43m.\u001b[39;49m\u001b[43mdecode_beams\u001b[49m\u001b[43m(\u001b[49m\n\u001b[1;32m    717\u001b[0m \u001b[43m        \u001b[49m\u001b[43mlogits\u001b[49m\u001b[43m,\u001b[49m\n\u001b[1;32m    718\u001b[0m \u001b[43m        \u001b[49m\u001b[43mbeam_width\u001b[49m\u001b[38;5;241;43m=\u001b[39;49m\u001b[43mbeam_width\u001b[49m\u001b[43m,\u001b[49m\n\u001b[1;32m    719\u001b[0m \u001b[43m        \u001b[49m\u001b[43mbeam_prune_logp\u001b[49m\u001b[38;5;241;43m=\u001b[39;49m\u001b[43mbeam_prune_logp\u001b[49m\u001b[43m,\u001b[49m\n\u001b[1;32m    720\u001b[0m \u001b[43m        \u001b[49m\u001b[43mtoken_min_logp\u001b[49m\u001b[38;5;241;43m=\u001b[39;49m\u001b[43mtoken_min_logp\u001b[49m\u001b[43m,\u001b[49m\n\u001b[1;32m    721\u001b[0m \u001b[43m        \u001b[49m\u001b[43mprune_history\u001b[49m\u001b[38;5;241;43m=\u001b[39;49m\u001b[38;5;28;43;01mTrue\u001b[39;49;00m\u001b[43m,\u001b[49m\u001b[43m  \u001b[49m\u001b[38;5;66;43;03m# we can set this to True since we only care about top 1 beam\u001b[39;49;00m\n\u001b[1;32m    722\u001b[0m \u001b[43m        \u001b[49m\u001b[43mhotwords\u001b[49m\u001b[38;5;241;43m=\u001b[39;49m\u001b[43mhotwords\u001b[49m\u001b[43m,\u001b[49m\n\u001b[1;32m    723\u001b[0m \u001b[43m        \u001b[49m\u001b[43mhotword_weight\u001b[49m\u001b[38;5;241;43m=\u001b[39;49m\u001b[43mhotword_weight\u001b[49m\u001b[43m,\u001b[49m\n\u001b[1;32m    724\u001b[0m \u001b[43m        \u001b[49m\u001b[43mlm_start_state\u001b[49m\u001b[38;5;241;43m=\u001b[39;49m\u001b[43mlm_start_state\u001b[49m\u001b[43m,\u001b[49m\n\u001b[1;32m    725\u001b[0m \u001b[43m    \u001b[49m\u001b[43m)\u001b[49m\n\u001b[1;32m    726\u001b[0m     \u001b[38;5;28;01mreturn\u001b[39;00m decoded_beams[\u001b[38;5;241m0\u001b[39m][\u001b[38;5;241m0\u001b[39m]\n",
      "File \u001b[0;32m~/root/projects/FHS/venv/python3.12.6/lib/python3.12/site-packages/pyctcdecode/decoder.py:586\u001b[0m, in \u001b[0;36mBeamSearchDecoderCTC.decode_beams\u001b[0;34m(self, logits, beam_width, beam_prune_logp, token_min_logp, prune_history, hotwords, hotword_weight, lm_start_state)\u001b[0m\n\u001b[1;32m    560\u001b[0m \u001b[38;5;28;01mdef\u001b[39;00m \u001b[38;5;21mdecode_beams\u001b[39m(\n\u001b[1;32m    561\u001b[0m     \u001b[38;5;28mself\u001b[39m,\n\u001b[1;32m    562\u001b[0m     logits: NDArray[NpFloat],\n\u001b[0;32m   (...)\u001b[0m\n\u001b[1;32m    569\u001b[0m     lm_start_state: LMState \u001b[38;5;241m=\u001b[39m \u001b[38;5;28;01mNone\u001b[39;00m,\n\u001b[1;32m    570\u001b[0m ) \u001b[38;5;241m-\u001b[39m\u001b[38;5;241m>\u001b[39m List[OutputBeam]:\n\u001b[1;32m    571\u001b[0m \u001b[38;5;250m    \u001b[39m\u001b[38;5;124;03m\"\"\"Convert input token logit matrix to decoded beams including meta information.\u001b[39;00m\n\u001b[1;32m    572\u001b[0m \n\u001b[1;32m    573\u001b[0m \u001b[38;5;124;03m    Args:\u001b[39;00m\n\u001b[0;32m   (...)\u001b[0m\n\u001b[1;32m    584\u001b[0m \u001b[38;5;124;03m        List of beams of type OUTPUT_BEAM with various meta information\u001b[39;00m\n\u001b[1;32m    585\u001b[0m \u001b[38;5;124;03m    \"\"\"\u001b[39;00m\n\u001b[0;32m--> 586\u001b[0m     \u001b[38;5;28;43mself\u001b[39;49m\u001b[38;5;241;43m.\u001b[39;49m\u001b[43m_check_logits_dimension\u001b[49m\u001b[43m(\u001b[49m\u001b[43mlogits\u001b[49m\u001b[43m)\u001b[49m\n\u001b[1;32m    587\u001b[0m     \u001b[38;5;66;03m# prepare hotword input\u001b[39;00m\n\u001b[1;32m    588\u001b[0m     hotword_scorer \u001b[38;5;241m=\u001b[39m HotwordScorer\u001b[38;5;241m.\u001b[39mbuild_scorer(hotwords, weight\u001b[38;5;241m=\u001b[39mhotword_weight)\n",
      "File \u001b[0;32m~/root/projects/FHS/venv/python3.12.6/lib/python3.12/site-packages/pyctcdecode/decoder.py:302\u001b[0m, in \u001b[0;36mBeamSearchDecoderCTC._check_logits_dimension\u001b[0;34m(self, logits)\u001b[0m\n\u001b[1;32m    300\u001b[0m \u001b[38;5;250m\u001b[39m\u001b[38;5;124;03m\"\"\"Verify correct shape and dimensions for input logits.\"\"\"\u001b[39;00m\n\u001b[1;32m    301\u001b[0m \u001b[38;5;28;01mif\u001b[39;00m \u001b[38;5;28mlen\u001b[39m(logits\u001b[38;5;241m.\u001b[39mshape) \u001b[38;5;241m!=\u001b[39m \u001b[38;5;241m2\u001b[39m:\n\u001b[0;32m--> 302\u001b[0m     \u001b[38;5;28;01mraise\u001b[39;00m \u001b[38;5;167;01mValueError\u001b[39;00m(\n\u001b[1;32m    303\u001b[0m         \u001b[38;5;124m\"\u001b[39m\u001b[38;5;124mInput logits have \u001b[39m\u001b[38;5;132;01m%s\u001b[39;00m\u001b[38;5;124m dimensions, but need 2: (time, vocabulary)\u001b[39m\u001b[38;5;124m\"\u001b[39m\n\u001b[1;32m    304\u001b[0m         \u001b[38;5;241m%\u001b[39m \u001b[38;5;28mlen\u001b[39m(logits\u001b[38;5;241m.\u001b[39mshape)\n\u001b[1;32m    305\u001b[0m     )\n\u001b[1;32m    306\u001b[0m \u001b[38;5;28;01mif\u001b[39;00m logits\u001b[38;5;241m.\u001b[39mshape[\u001b[38;5;241m-\u001b[39m\u001b[38;5;241m1\u001b[39m] \u001b[38;5;241m!=\u001b[39m \u001b[38;5;28mlen\u001b[39m(\u001b[38;5;28mself\u001b[39m\u001b[38;5;241m.\u001b[39m_idx2vocab):\n\u001b[1;32m    307\u001b[0m     \u001b[38;5;28;01mraise\u001b[39;00m \u001b[38;5;167;01mValueError\u001b[39;00m(\n\u001b[1;32m    308\u001b[0m         \u001b[38;5;124m\"\u001b[39m\u001b[38;5;124mInput logits shape is \u001b[39m\u001b[38;5;132;01m%s\u001b[39;00m\u001b[38;5;124m, but vocabulary is size \u001b[39m\u001b[38;5;132;01m%s\u001b[39;00m\u001b[38;5;124m. \u001b[39m\u001b[38;5;124m\"\u001b[39m\n\u001b[1;32m    309\u001b[0m         \u001b[38;5;124m\"\u001b[39m\u001b[38;5;124mNeed logits of shape: (time, vocabulary)\u001b[39m\u001b[38;5;124m\"\u001b[39m \u001b[38;5;241m%\u001b[39m (logits\u001b[38;5;241m.\u001b[39mshape, \u001b[38;5;28mlen\u001b[39m(\u001b[38;5;28mself\u001b[39m\u001b[38;5;241m.\u001b[39m_idx2vocab))\n\u001b[1;32m    310\u001b[0m     )\n",
      "\u001b[0;31mValueError\u001b[0m: Input logits have 3 dimensions, but need 2: (time, vocabulary)"
     ]
    }
   ],
   "source": [
    "text = decoder.decode(outputs)"
   ]
  },
  {
   "cell_type": "code",
   "execution_count": null,
   "id": "783bd3af-d0d5-4f00-bec2-69ac69e731b9",
   "metadata": {},
   "outputs": [],
   "source": [
    "uppercase_lm_path = '3-gram.pruned.1e-7.arpa'\n",
    "if not os.path.exists(uppercase_lm_path):\n",
    "    with gzip.open(lm_gzip_path, 'rb') as f_zipped:\n",
    "        with open(uppercase_lm_path, 'wb') as f_unzipped:\n",
    "            shutil.copyfileobj(f_zipped, f_unzipped)\n",
    "    print('Unzipped the 3-gram language model.')\n",
    "else:\n",
    "    print('Unzipped .arpa already exists.')\n",
    "\n",
    "lm_path = 'lowercase_3-gram.pruned.1e-7.arpa'\n",
    "if not os.path.exists(lm_path):\n",
    "    with open(uppercase_lm_path, 'r') as f_upper:\n",
    "        with open(lm_path, 'w') as f_lower:\n",
    "            for line in f_upper:\n",
    "                f_lower.write(line.lower())\n",
    "print('Converted language model file to lowercase.')"
   ]
  },
  {
   "cell_type": "code",
   "execution_count": null,
   "id": "6269073b-b23a-4cff-9522-24628777fe08",
   "metadata": {},
   "outputs": [],
   "source": []
  },
  {
   "cell_type": "code",
   "execution_count": 15,
   "id": "df9bdd96-87b4-4e60-86a0-fda1d47bea96",
   "metadata": {},
   "outputs": [],
   "source": [
    "from transformers import Wav2Vec2ForCTC, Wav2Vec2Processor\n",
    "import torch"
   ]
  },
  {
   "cell_type": "code",
   "execution_count": 77,
   "id": "ae4d1b5d-532e-44cb-8431-89f10ad67b26",
   "metadata": {},
   "outputs": [],
   "source": [
    "model_id = 'Models/ASR/wav2vec2-large-xlsr-53-english/'"
   ]
  },
  {
   "cell_type": "code",
   "execution_count": 78,
   "id": "8a1ff6eb-c0dd-4a60-88c0-3e9539c2beb5",
   "metadata": {},
   "outputs": [
    {
     "name": "stderr",
     "output_type": "stream",
     "text": [
      "/Users/z5173707/root/projects/FHS/venv/python3.12.6/lib/python3.12/site-packages/transformers/tokenization_utils_base.py:1601: FutureWarning: `clean_up_tokenization_spaces` was not set. It will be set to `True` by default. This behavior will be depracted in transformers v4.45, and will be then set to `False` by default. For more details check this issue: https://github.com/huggingface/transformers/issues/31884\n",
      "  warnings.warn(\n",
      "Some weights of the model checkpoint at Models/ASR/wav2vec2-large-xlsr-53-english/ were not used when initializing Wav2Vec2ForCTC: ['wav2vec2.encoder.pos_conv_embed.conv.weight_g', 'wav2vec2.encoder.pos_conv_embed.conv.weight_v']\n",
      "- This IS expected if you are initializing Wav2Vec2ForCTC from the checkpoint of a model trained on another task or with another architecture (e.g. initializing a BertForSequenceClassification model from a BertForPreTraining model).\n",
      "- This IS NOT expected if you are initializing Wav2Vec2ForCTC from the checkpoint of a model that you expect to be exactly identical (initializing a BertForSequenceClassification model from a BertForSequenceClassification model).\n",
      "Some weights of Wav2Vec2ForCTC were not initialized from the model checkpoint at Models/ASR/wav2vec2-large-xlsr-53-english/ and are newly initialized: ['wav2vec2.encoder.pos_conv_embed.conv.parametrizations.weight.original0', 'wav2vec2.encoder.pos_conv_embed.conv.parametrizations.weight.original1']\n",
      "You should probably TRAIN this model on a down-stream task to be able to use it for predictions and inference.\n"
     ]
    }
   ],
   "source": [
    "processor = Wav2Vec2Processor.from_pretrained(model_id)\n",
    "model = Wav2Vec2ForCTC.from_pretrained(model_id)"
   ]
  },
  {
   "cell_type": "code",
   "execution_count": 79,
   "id": "658b2a67-c392-4037-a23b-ee85c38f19e2",
   "metadata": {},
   "outputs": [],
   "source": [
    "from core.utils import generate_file_basename, load_speech_file, zip_files\n",
    "from pyctcdecode import build_ctcdecoder"
   ]
  },
  {
   "cell_type": "code",
   "execution_count": 80,
   "id": "6248400f-839f-4688-89f8-f578e40ab3b0",
   "metadata": {},
   "outputs": [],
   "source": [
    "vocab_dict = processor.tokenizer.get_vocab()\n",
    "sorted_vocab_dict = {k.lower(): v for k, v in sorted(vocab_dict.items(), key=lambda item: item[1])}"
   ]
  },
  {
   "cell_type": "code",
   "execution_count": 81,
   "id": "b89dab9a-d96d-48ee-b1e0-0dcebe2ee69e",
   "metadata": {},
   "outputs": [],
   "source": [
    "lm_path = 'Models/ASR/LM/ngram/4gram_big.arpa.gz'\n",
    "lm_path_unzip = 'Models/ASR/LM/ngram/4gram_big.arpa'"
   ]
  },
  {
   "cell_type": "code",
   "execution_count": 82,
   "id": "c4948b75-f308-42ea-bb1d-3df17e57e3a1",
   "metadata": {},
   "outputs": [],
   "source": [
    "import gzip\n",
    "import os, shutil\n",
    "with gzip.open(lm_path, 'rb') as f_zipped:\n",
    "    with open(lm_path_unzip, 'wb') as f_unzipped:\n",
    "        shutil.copyfileobj(f_zipped, f_unzipped)"
   ]
  },
  {
   "cell_type": "code",
   "execution_count": 98,
   "id": "83f45624-bd37-458d-800e-ca7e8da39c49",
   "metadata": {},
   "outputs": [
    {
     "name": "stderr",
     "output_type": "stream",
     "text": [
      "Loading the LM will be faster if you build a binary file.\n",
      "Reading /Users/z5173707/root/projects/FHS/alKhalilVox/Models/ASR/LM/ngram/4gram_big.arpa\n",
      "----5---10---15---20---25---30---35---40---45---50---55---60---65---70---75---80---85---90---95--100\n",
      "****************************************************************************************************\n",
      "Found entries of length > 1 in alphabet. This is unusual unless style is BPE, but the alphabet was not recognized as BPE type. Is this correct?\n",
      "Unigrams and labels don't seem to agree.\n"
     ]
    }
   ],
   "source": [
    "from pyctcdecode import build_ctcdecoder\n",
    "#TODO: Create .bin LM\n",
    "\n",
    "decoder = build_ctcdecoder(\n",
    "    labels=list(sorted_vocab_dict.keys()),\n",
    "    kenlm_model_path=lm_path_unzip,  # either .arpa or .bin file\n",
    "     alpha=0.5,  # tuned on a val set\n",
    "    beta=1.0,  # tuned on a val set\n",
    ")\n"
   ]
  },
  {
   "cell_type": "code",
   "execution_count": 84,
   "id": "e39ab167-5d46-4e0c-8320-ee79fe310426",
   "metadata": {},
   "outputs": [],
   "source": [
    "speech, sr, duration = load_speech_file('../tmp/file_6820_20240928_232234_530279.wav')"
   ]
  },
  {
   "cell_type": "code",
   "execution_count": 85,
   "id": "93b75227-19d1-4dd9-b1ac-891c5dd03f69",
   "metadata": {},
   "outputs": [],
   "source": [
    "inputs = processor(speech, sampling_rate=16_000, return_tensors=\"pt\", padding=True)"
   ]
  },
  {
   "cell_type": "code",
   "execution_count": 86,
   "id": "1781e695-8ea9-4a4d-8c5a-57a45851a122",
   "metadata": {},
   "outputs": [],
   "source": [
    "with torch.no_grad():\n",
    "    logits = model(inputs.input_values, attention_mask=inputs.attention_mask).logits"
   ]
  },
  {
   "cell_type": "code",
   "execution_count": 87,
   "id": "dfe7db79-f5e7-40f1-9c5a-be2fab4e94ad",
   "metadata": {},
   "outputs": [],
   "source": [
    "predicted_ids = torch.argmax(logits, dim=-1)\n",
    "predicted_sentences = processor.batch_decode(predicted_ids)"
   ]
  },
  {
   "cell_type": "code",
   "execution_count": 88,
   "id": "cd2340a0-d635-4479-aaff-396a5100ab92",
   "metadata": {},
   "outputs": [
    {
     "data": {
      "text/plain": [
       "[\"okay now i will pretend i'm two this is the first speakerthis is a secondy speaker first one will say hellosecond one will say hello back\"]"
      ]
     },
     "execution_count": 88,
     "metadata": {},
     "output_type": "execute_result"
    }
   ],
   "source": [
    "predicted_sentences"
   ]
  },
  {
   "cell_type": "code",
   "execution_count": 109,
   "id": "7745e941-66c4-45d8-8ed0-e6874a078a76",
   "metadata": {},
   "outputs": [],
   "source": [
    "x = logits.squeeze()\n",
    "x = x.cpu().detach().numpy()\n",
    "hotwords = None #[\"hello\", \"second\"]\n",
    "text = decoder.decode(x,\n",
    "                     hotwords=hotwords,\n",
    "                     hotword_weight=10.0)"
   ]
  },
  {
   "cell_type": "code",
   "execution_count": 110,
   "id": "d30d2d99-0fb8-42af-b845-a52ca3b88cf8",
   "metadata": {},
   "outputs": [
    {
     "data": {
      "text/plain": [
       "\"okay now i will pretend i'm two this is the first speaker this is a second speaker first one will say hellosecond one will say hello back\""
      ]
     },
     "execution_count": 110,
     "metadata": {},
     "output_type": "execute_result"
    }
   ],
   "source": [
    "text"
   ]
  },
  {
   "cell_type": "code",
   "execution_count": 103,
   "id": "71169338-a564-49c5-b301-0eca272e53ab",
   "metadata": {},
   "outputs": [
    {
     "data": {
      "text/plain": [
       "\"okay now i will pretend i'm two this is the first speaker this is a second speaker first one will say hellosecond one will say hello back\""
      ]
     },
     "execution_count": 103,
     "metadata": {},
     "output_type": "execute_result"
    }
   ],
   "source": [
    "text"
   ]
  },
  {
   "cell_type": "code",
   "execution_count": 38,
   "id": "035ee529-57ad-4ca7-8fcb-f4b53bb1c71d",
   "metadata": {},
   "outputs": [],
   "source": [
    "x = logits.squeeze()\n",
    "x = x.cpu().detach().numpy()"
   ]
  },
  {
   "cell_type": "code",
   "execution_count": 35,
   "id": "5d7609f5-5fa2-4852-a960-b82f89391b20",
   "metadata": {},
   "outputs": [],
   "source": [
    "import numpy as np"
   ]
  },
  {
   "cell_type": "code",
   "execution_count": null,
   "id": "cb5c3322-e9f0-4bed-9180-b13231455e3a",
   "metadata": {},
   "outputs": [],
   "source": [
    "np.amax(x, axis=1, keepdims=True)"
   ]
  },
  {
   "cell_type": "code",
   "execution_count": 37,
   "id": "0dd4c546-dd97-4938-9be8-133c1aeff3c0",
   "metadata": {},
   "outputs": [
    {
     "data": {
      "text/plain": [
       "array([[ 12.993846 , -17.811337 , -17.980957 , ...,  -5.951513 ,\n",
       "         -2.7360475,  -5.3542457],\n",
       "       [ 12.287314 , -16.559212 , -16.688166 , ...,  -5.4883504,\n",
       "         -2.484035 ,  -4.5250134],\n",
       "       [ 12.447207 , -16.961746 , -17.092838 , ...,  -5.403464 ,\n",
       "         -2.4596238,  -4.6880875],\n",
       "       ...,\n",
       "       [ 14.150415 , -20.84775  , -21.004705 , ...,  -6.004456 ,\n",
       "         -3.8888366,  -6.075698 ],\n",
       "       [ 13.587078 , -19.1908   , -19.345034 , ...,  -5.3483753,\n",
       "         -3.1083999,  -5.3358965],\n",
       "       [  1.1179023,  -8.682626 ,  -8.614253 , ...,  -3.0244646,\n",
       "         -1.1476758,  -4.2867713]], dtype=float32)"
      ]
     },
     "execution_count": 37,
     "metadata": {},
     "output_type": "execute_result"
    }
   ],
   "source": [
    "x.cpu().detach().numpy()"
   ]
  },
  {
   "cell_type": "code",
   "execution_count": 45,
   "id": "4b103c54-477e-4f7b-a542-13a498a4f937",
   "metadata": {},
   "outputs": [
    {
     "name": "stderr",
     "output_type": "stream",
     "text": [
      "Loading the LM will be faster if you build a binary file.\n",
      "Reading /Users/z5173707/root/projects/FHS/alKhalilVox/Models/ASR/LM/ngram/4gram_small.arpa\n",
      "----5---10---15---20---25---30---35---40---45---50---55---60---65---70---75---80---85---90---95--100\n",
      "****************************************************************************************************\n"
     ]
    }
   ],
   "source": [
    "import kenlm\n",
    "\n",
    "kenlm_model = kenlm.Model(lm_path_unzip)"
   ]
  },
  {
   "cell_type": "code",
   "execution_count": 6,
   "id": "4c4f0d9d-f4af-481f-9b9b-bc2f42235cda",
   "metadata": {},
   "outputs": [],
   "source": [
    "import pyannote.audio as p"
   ]
  },
  {
   "cell_type": "code",
   "execution_count": 7,
   "id": "ea0d4135-5794-44fe-8c2e-976dcad7c74b",
   "metadata": {},
   "outputs": [
    {
     "data": {
      "text/plain": [
       "'3.3.2'"
      ]
     },
     "execution_count": 7,
     "metadata": {},
     "output_type": "execute_result"
    }
   ],
   "source": [
    "p.__version__"
   ]
  },
  {
   "cell_type": "code",
   "execution_count": 1,
   "id": "60a9175f-4d39-4753-862a-0286cc90e7b0",
   "metadata": {},
   "outputs": [
    {
     "name": "stderr",
     "output_type": "stream",
     "text": [
      "2024-10-06 09:18:57,963 - root - INFO - This is an informational message\n"
     ]
    }
   ],
   "source": [
    "import logging\n",
    "logging.basicConfig(\n",
    "    format=\"{asctime} - {name} - {levelname} - {message}\",\n",
    "    level=logging.DEBUG, style='{'\n",
    ")\n",
    "\n",
    "logging.info(\"This is an informational message\")"
   ]
  },
  {
   "cell_type": "code",
   "execution_count": 2,
   "id": "4e821997-d75c-4607-bbbd-34328df0c945",
   "metadata": {},
   "outputs": [
    {
     "name": "stderr",
     "output_type": "stream",
     "text": [
      "2024-10-06 09:29:50,645 - root - ERROR - Exception...\n",
      "Traceback (most recent call last):\n",
      "  File \"/var/folders/jt/gv0905117tv57783psrrf40h0000gq/T/ipykernel_47534/3811500078.py\", line 2, in <module>\n",
      "    u = 8/0;\n",
      "        ~^~\n",
      "ZeroDivisionError: division by zero\n",
      "2024-10-06 09:29:50,648 - root - WARNING - Non critical exception ...\n",
      "Traceback (most recent call last):\n",
      "  File \"/var/folders/jt/gv0905117tv57783psrrf40h0000gq/T/ipykernel_47534/3811500078.py\", line 2, in <module>\n",
      "    u = 8/0;\n",
      "        ~^~\n",
      "ZeroDivisionError: division by zero\n"
     ]
    }
   ],
   "source": [
    "try:\n",
    "    u = 8/0;\n",
    "except:\n",
    "    logging.exception(\"Exception...\")\n",
    "    logging.warning(\"Non critical exception ...\", exc_info=True)"
   ]
  },
  {
   "cell_type": "code",
   "execution_count": 3,
   "id": "710b8f3f-339c-47a5-9cc0-619ae0973d85",
   "metadata": {},
   "outputs": [],
   "source": [
    "def some_function():\n",
    "    logging.debug(\"Debug message\")"
   ]
  },
  {
   "cell_type": "code",
   "execution_count": 4,
   "id": "82acf522-233a-4107-9a20-89b2ddded1ec",
   "metadata": {},
   "outputs": [
    {
     "name": "stderr",
     "output_type": "stream",
     "text": [
      "2024-10-06 08:22:15,933 - root - DEBUG - Debug message\n"
     ]
    }
   ],
   "source": [
    "some_function()"
   ]
  },
  {
   "cell_type": "code",
   "execution_count": 1,
   "id": "57ab81a3-384f-4d93-a0c2-3ffbe45f0a98",
   "metadata": {},
   "outputs": [],
   "source": [
    "import logging"
   ]
  },
  {
   "cell_type": "code",
   "execution_count": null,
   "id": "16eeb460-626a-4ad2-aa49-2db98e268aa6",
   "metadata": {},
   "outputs": [],
   "source": [
    "logging.basicConfig()"
   ]
  },
  {
   "cell_type": "code",
   "execution_count": 2,
   "id": "e8bd21d1-c333-47c6-8319-ca4ecf6dac56",
   "metadata": {},
   "outputs": [],
   "source": [
    "formatter = logging.Formatter(\"{asctime} - {levelname}\", style='{')"
   ]
  },
  {
   "cell_type": "code",
   "execution_count": 3,
   "id": "cc98ee4e-8ca7-4a38-adeb-91eff76c7caf",
   "metadata": {},
   "outputs": [],
   "source": [
    "fileHand = logging.FileHandler('test.log', mode='a', encoding='utf-8')"
   ]
  },
  {
   "cell_type": "code",
   "execution_count": 4,
   "id": "1cc01328-f20e-41e7-ae9a-d2c6bfba488a",
   "metadata": {},
   "outputs": [],
   "source": [
    "fileHand.setFormatter(formatter)"
   ]
  },
  {
   "cell_type": "code",
   "execution_count": 5,
   "id": "70be6ecf-0b6b-4053-8019-b4ac91463b85",
   "metadata": {},
   "outputs": [],
   "source": [
    "logger = logging.getLogger('here')"
   ]
  },
  {
   "cell_type": "code",
   "execution_count": 6,
   "id": "82d126da-ac7a-430e-8ce4-7ce298f094c9",
   "metadata": {},
   "outputs": [],
   "source": [
    "logger.setLevel(logging.DEBUG)"
   ]
  },
  {
   "cell_type": "code",
   "execution_count": 7,
   "id": "9a0c4bf8-e0df-4850-a2fd-a2330348e2aa",
   "metadata": {},
   "outputs": [],
   "source": [
    "logger.addHandler(fileHand)"
   ]
  },
  {
   "cell_type": "code",
   "execution_count": 8,
   "id": "afd2fb7c-425e-4574-ae1a-f7a779aa9d10",
   "metadata": {},
   "outputs": [],
   "source": [
    "logger.info(\"Lets see!\")"
   ]
  },
  {
   "cell_type": "code",
   "execution_count": 9,
   "id": "8ab0ae35-358e-4cb0-aac6-0f6636bdce78",
   "metadata": {},
   "outputs": [
    {
     "data": {
      "text/plain": [
       "10"
      ]
     },
     "execution_count": 9,
     "metadata": {},
     "output_type": "execute_result"
    }
   ],
   "source": [
    "logger.getEffectiveLevel()"
   ]
  },
  {
   "cell_type": "code",
   "execution_count": 1,
   "id": "868c0b76-2f90-46f1-b9ba-ea5ccba9b5d4",
   "metadata": {},
   "outputs": [
    {
     "data": {
      "text/plain": [
       "'/Users/z5173707/root/projects/speechgrid'"
      ]
     },
     "execution_count": 1,
     "metadata": {},
     "output_type": "execute_result"
    }
   ],
   "source": [
    "pwd"
   ]
  },
  {
   "cell_type": "code",
   "execution_count": 2,
   "id": "f0d5d43d-44f7-413e-bc2c-988544de72c1",
   "metadata": {},
   "outputs": [],
   "source": [
    "i = 0\n",
    "i +=1"
   ]
  },
  {
   "cell_type": "code",
   "execution_count": 3,
   "id": "6d054231-c9eb-4c14-87b7-d82abb3abdd1",
   "metadata": {},
   "outputs": [
    {
     "data": {
      "text/plain": [
       "1"
      ]
     },
     "execution_count": 3,
     "metadata": {},
     "output_type": "execute_result"
    }
   ],
   "source": [
    "i"
   ]
  },
  {
   "cell_type": "code",
   "execution_count": 4,
   "id": "f29c5b32-0124-4628-bced-999dee42fb17",
   "metadata": {},
   "outputs": [
    {
     "ename": "NameError",
     "evalue": "name 'logger' is not defined",
     "output_type": "error",
     "traceback": [
      "\u001b[0;31m---------------------------------------------------------------------------\u001b[0m",
      "\u001b[0;31mNameError\u001b[0m                                 Traceback (most recent call last)",
      "Cell \u001b[0;32mIn[4], line 1\u001b[0m\n\u001b[0;32m----> 1\u001b[0m \u001b[43mlogger\u001b[49m\n",
      "\u001b[0;31mNameError\u001b[0m: name 'logger' is not defined"
     ]
    }
   ],
   "source": [
    "logger"
   ]
  },
  {
   "cell_type": "code",
   "execution_count": 5,
   "id": "35cc0aa5-0037-4ab8-9a93-58ad6c46882e",
   "metadata": {},
   "outputs": [],
   "source": [
    "import logging"
   ]
  },
  {
   "cell_type": "code",
   "execution_count": 8,
   "id": "7bcd5cc8-6ca0-4125-a15a-de509a57425c",
   "metadata": {},
   "outputs": [],
   "source": [
    "logging.basicConfig(level=logging.DEBUG)"
   ]
  },
  {
   "cell_type": "code",
   "execution_count": 9,
   "id": "0502a432-d6bf-4cbd-be71-b3ed91e4aeeb",
   "metadata": {},
   "outputs": [],
   "source": [
    "logger = logging.getLogger()"
   ]
  },
  {
   "cell_type": "code",
   "execution_count": 11,
   "id": "a057d647-1681-4364-b52e-e9c6ef05e39c",
   "metadata": {},
   "outputs": [
    {
     "data": {
      "text/plain": [
       "10"
      ]
     },
     "execution_count": 11,
     "metadata": {},
     "output_type": "execute_result"
    }
   ],
   "source": [
    "logger.getEffectiveLevel()"
   ]
  },
  {
   "cell_type": "code",
   "execution_count": 13,
   "id": "1313a9f2-dada-4164-b526-212d941ec6ef",
   "metadata": {},
   "outputs": [
    {
     "data": {
      "text/plain": [
       "<RootLogger root (DEBUG)>"
      ]
     },
     "execution_count": 13,
     "metadata": {},
     "output_type": "execute_result"
    }
   ],
   "source": [
    "logger"
   ]
  },
  {
   "cell_type": "code",
   "execution_count": 14,
   "id": "c39c2e59-96a1-4038-b287-3e86fbfe3239",
   "metadata": {},
   "outputs": [],
   "source": [
    "logger_a = logging.getLogger('A')"
   ]
  },
  {
   "cell_type": "code",
   "execution_count": 15,
   "id": "94c5ffee-8199-4f49-a5e6-7d8187c83818",
   "metadata": {},
   "outputs": [
    {
     "data": {
      "text/plain": [
       "<Logger A (DEBUG)>"
      ]
     },
     "execution_count": 15,
     "metadata": {},
     "output_type": "execute_result"
    }
   ],
   "source": [
    "logger_a"
   ]
  },
  {
   "cell_type": "code",
   "execution_count": 16,
   "id": "3c7760d9-4821-4639-8f6c-abe16ff8b5dd",
   "metadata": {},
   "outputs": [],
   "source": [
    "logger.setLevel(logging.INFO)"
   ]
  },
  {
   "cell_type": "code",
   "execution_count": 21,
   "id": "200a169b-f55f-4198-ab23-898876fac0b6",
   "metadata": {},
   "outputs": [
    {
     "data": {
      "text/plain": [
       "<RootLogger root (INFO)>"
      ]
     },
     "execution_count": 21,
     "metadata": {},
     "output_type": "execute_result"
    }
   ],
   "source": [
    "logger"
   ]
  },
  {
   "cell_type": "code",
   "execution_count": 22,
   "id": "6e87c8af-a045-46c7-8ce0-0118518cb28a",
   "metadata": {},
   "outputs": [
    {
     "data": {
      "text/plain": [
       "<Logger A (WARNING)>"
      ]
     },
     "execution_count": 22,
     "metadata": {},
     "output_type": "execute_result"
    }
   ],
   "source": [
    "logger_a"
   ]
  },
  {
   "cell_type": "code",
   "execution_count": 19,
   "id": "a6f19de7-214d-4a23-ad57-cc4dbce1b735",
   "metadata": {},
   "outputs": [],
   "source": [
    "logger_a.setLevel(logging.WARN)"
   ]
  },
  {
   "cell_type": "code",
   "execution_count": null,
   "id": "25ef3b74-f24a-4e3e-bbef-38f1682d9c47",
   "metadata": {},
   "outputs": [],
   "source": [
    "logger"
   ]
  },
  {
   "cell_type": "code",
   "execution_count": 8,
   "id": "6ed522b8-c7cb-431e-b1e9-7c8ab4da3e35",
   "metadata": {
    "scrolled": true
   },
   "outputs": [
    {
     "name": "stderr",
     "output_type": "stream",
     "text": [
      "2024-10-13 00:37:20,587 - httpx - INFO - HTTP Request: GET http://127.0.0.1:7864/startup-events \"HTTP/1.1 200 OK\"\n",
      "2024-10-13 00:37:20,590 - httpx - INFO - HTTP Request: HEAD http://127.0.0.1:7864/ \"HTTP/1.1 200 OK\"\n"
     ]
    },
    {
     "name": "stdout",
     "output_type": "stream",
     "text": [
      "Running on local URL:  http://127.0.0.1:7864\n",
      "\n",
      "To create a public link, set `share=True` in `launch()`.\n"
     ]
    },
    {
     "data": {
      "text/html": [
       "<div><iframe src=\"http://127.0.0.1:7864/\" width=\"100%\" height=\"500\" allow=\"autoplay; camera; microphone; clipboard-read; clipboard-write;\" frameborder=\"0\" allowfullscreen></iframe></div>"
      ],
      "text/plain": [
       "<IPython.core.display.HTML object>"
      ]
     },
     "metadata": {},
     "output_type": "display_data"
    },
    {
     "data": {
      "text/plain": []
     },
     "execution_count": 8,
     "metadata": {},
     "output_type": "execute_result"
    },
    {
     "name": "stderr",
     "output_type": "stream",
     "text": [
      "2024-10-13 00:37:21,264 - httpx - INFO - HTTP Request: GET https://api.gradio.app/pkg-version \"HTTP/1.1 200 OK\"\n",
      "/Users/z5173707/root/projects/FHS/venv/python3.12.6/lib/python3.12/site-packages/gradio/analytics.py:106: UserWarning: IMPORTANT: You are using gradio version 4.44.0, however version 5.0.1 is available, please upgrade. \n",
      "--------\n",
      "  warnings.warn(\n"
     ]
    }
   ],
   "source": [
    "import gradio as gr\n",
    "\n",
    "def reset_min_max(exact,min_v,max_v):\n",
    "  if exact > 0:\n",
    "      min_v = 0\n",
    "      max_v = 0\n",
    "  return exact, min_v, max_v\n",
    "\n",
    "def validate(exact, min_v, max_v):\n",
    "    if min_v > 0 or max_v > 0:\n",
    "        exact = 0\n",
    "        if min_v > max_v:\n",
    "            max_v = min_v\n",
    "    return exact, min_v, max_v\n",
    "  \n",
    "def toggle_it():\n",
    "\n",
    "with gr.Blocks() as gui:\n",
    "    x = gr.Button(visible=True)\n",
    "    a = gr.Number(label='Exact', interactive=True)\n",
    "    b = gr.Number(label='Min', interactive=True)\n",
    "    c = gr.Number(label='Max', interactive=True)\n",
    "\n",
    "\n",
    "\n",
    "\n",
    "    a.change(reset_min_max,inputs=[a,b,c],outputs=[a,b,c])\n",
    "    #b.change(reset_exact, inputs=[b,a],outputs=a)\n",
    "    #c.change(reset_exact, inputs=[c,a],outputs=a)\n",
    "    b.change(validate, inputs=[a,b,c], outputs=[a,b,c])\n",
    "    c.change(validate, inputs=[a,b,c], outputs=[a,b,c])\n",
    "\n",
    "\n",
    "gui.launch()"
   ]
  },
  {
   "cell_type": "code",
   "execution_count": 24,
   "id": "0eaa21c0-93f2-409e-8885-3c3ea7c98d55",
   "metadata": {},
   "outputs": [],
   "source": [
    "x = {'a':'b','v':'h'}"
   ]
  },
  {
   "cell_type": "code",
   "execution_count": 27,
   "id": "7ecda0ec-fac3-4bd7-bcde-153a7d125da1",
   "metadata": {},
   "outputs": [
    {
     "data": {
      "text/plain": [
       "False"
      ]
     },
     "execution_count": 27,
     "metadata": {},
     "output_type": "execute_result"
    }
   ],
   "source": [
    "'b' in x"
   ]
  },
  {
   "cell_type": "code",
   "execution_count": 32,
   "id": "c26a6639-a492-47ba-96fb-65c80cbfb0b7",
   "metadata": {},
   "outputs": [
    {
     "name": "stdout",
     "output_type": "stream",
     "text": [
      "True\n"
     ]
    }
   ],
   "source": [
    "f = True\n",
    "T = ['ASR']\n",
    "L = ['ASR','SD']\n",
    "\n",
    "if 'ASR' in T and ('ASR' not in L or f):\n",
    "    print('True')"
   ]
  },
  {
   "cell_type": "code",
   "execution_count": 34,
   "id": "de609d54-77dc-48fd-ad52-c3e507a674cd",
   "metadata": {},
   "outputs": [
    {
     "name": "stdout",
     "output_type": "stream",
     "text": [
      "Running on local URL:  http://127.0.0.1:7867\n",
      "\n",
      "To create a public link, set `share=True` in `launch()`.\n"
     ]
    },
    {
     "data": {
      "text/html": [
       "<div><iframe src=\"http://127.0.0.1:7867/\" width=\"100%\" height=\"500\" allow=\"autoplay; camera; microphone; clipboard-read; clipboard-write;\" frameborder=\"0\" allowfullscreen></iframe></div>"
      ],
      "text/plain": [
       "<IPython.core.display.HTML object>"
      ]
     },
     "metadata": {},
     "output_type": "display_data"
    },
    {
     "name": "stderr",
     "output_type": "stream",
     "text": [
      "/Users/z5173707/root/projects/FHS/venv/python3.12.6/lib/python3.12/site-packages/gradio/analytics.py:106: UserWarning: IMPORTANT: You are using gradio version 4.44.0, however version 5.0.1 is available, please upgrade. \n",
      "--------\n",
      "  warnings.warn(\n"
     ]
    }
   ],
   "source": [
    "import gradio as gr\n",
    "\n",
    "\n",
    "def greet(name='f',a='b'):\n",
    "    return \"Hello \" + name + \"!\"\n",
    "\n",
    "\n",
    "with gr.Blocks() as demo:\n",
    "    name = gr.Textbox(label=\"Name\")\n",
    "    output = gr.Textbox(label=\"Output Box\")\n",
    "    greet_btn = gr.Button(\"Greet\")\n",
    "    greet_btn.click(fn=greet, inputs=name, outputs=output, api_name=\"greet\")\n",
    "\n",
    "if __name__ == \"__main__\":\n",
    "    demo.launch()\n"
   ]
  },
  {
   "cell_type": "code",
   "execution_count": 4,
   "id": "2bb251e7-3155-4625-9e8a-fe2cdf048ebb",
   "metadata": {},
   "outputs": [],
   "source": [
    "class EmptyClass:\n",
    "    pass"
   ]
  },
  {
   "cell_type": "code",
   "execution_count": 5,
   "id": "6621e986-03b5-414d-87a1-efb35e626ae8",
   "metadata": {},
   "outputs": [
    {
     "data": {
      "text/plain": [
       "['__class__',\n",
       " '__delattr__',\n",
       " '__dict__',\n",
       " '__dir__',\n",
       " '__doc__',\n",
       " '__eq__',\n",
       " '__format__',\n",
       " '__ge__',\n",
       " '__getattribute__',\n",
       " '__getstate__',\n",
       " '__gt__',\n",
       " '__hash__',\n",
       " '__init__',\n",
       " '__init_subclass__',\n",
       " '__le__',\n",
       " '__lt__',\n",
       " '__module__',\n",
       " '__ne__',\n",
       " '__new__',\n",
       " '__reduce__',\n",
       " '__reduce_ex__',\n",
       " '__repr__',\n",
       " '__setattr__',\n",
       " '__sizeof__',\n",
       " '__str__',\n",
       " '__subclasshook__',\n",
       " '__weakref__']"
      ]
     },
     "execution_count": 5,
     "metadata": {},
     "output_type": "execute_result"
    }
   ],
   "source": [
    "c = EmptyClass()\n",
    "dir(c)"
   ]
  },
  {
   "cell_type": "code",
   "execution_count": null,
   "id": "828ea3e5-2e38-415e-9dbe-719e8557d3d7",
   "metadata": {},
   "outputs": [],
   "source": []
  }
 ],
 "metadata": {
  "kernelspec": {
   "display_name": "Python 3 (ipykernel)",
   "language": "python",
   "name": "python3"
  },
  "language_info": {
   "codemirror_mode": {
    "name": "ipython",
    "version": 3
   },
   "file_extension": ".py",
   "mimetype": "text/x-python",
   "name": "python",
   "nbconvert_exporter": "python",
   "pygments_lexer": "ipython3",
   "version": "3.12.6"
  }
 },
 "nbformat": 4,
 "nbformat_minor": 5
}
